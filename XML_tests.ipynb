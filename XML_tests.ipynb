{
 "cells": [
  {
   "cell_type": "code",
   "execution_count": null,
   "metadata": {},
   "outputs": [],
   "source": [
    "from xml.dom import minidom"
   ]
  },
  {
   "cell_type": "markdown",
   "metadata": {},
   "source": [
    "## Read XML file"
   ]
  },
  {
   "cell_type": "code",
   "execution_count": null,
   "metadata": {},
   "outputs": [],
   "source": [
    "annot = minidom.parse(\"./data/annot.annotations\") # open XML file"
   ]
  },
  {
   "cell_type": "code",
   "execution_count": null,
   "metadata": {},
   "outputs": [],
   "source": [
    "regions = annot.getElementsByTagName(\"Region\") # list of regions in the annotation file\n",
    "print(len(regions))"
   ]
  },
  {
   "cell_type": "code",
   "execution_count": null,
   "metadata": {},
   "outputs": [],
   "source": [
    "V = [] # list of vertices in each region\n",
    "V_coord = [] # list of coord of each vertex in each region\n",
    "for r in regions :\n",
    "    vertices = r.getElementsByTagName(\"V\")\n",
    "    V.append(vertices)\n",
    "    \n",
    "    v_coord = []\n",
    "    for v in vertices :\n",
    "        coord = {\"X\": v.getAttribute('X'), \"Y\": v.getAttribute('Y')}\n",
    "        v_coord.append(coord)\n",
    "    V_coord.append(v_coord)"
   ]
  },
  {
   "cell_type": "code",
   "execution_count": null,
   "metadata": {
    "scrolled": true
   },
   "outputs": [],
   "source": [
    "V_coord"
   ]
  },
  {
   "cell_type": "markdown",
   "metadata": {},
   "source": [
    "#### 0/1 array representation of regions of interest"
   ]
  },
  {
   "cell_type": "code",
   "execution_count": null,
   "metadata": {},
   "outputs": [],
   "source": [
    "# Images\n",
    "import os\n",
    "import PIL \n",
    "import numpy as np\n",
    "import openslide\n",
    "\n",
    "# Annotations\n",
    "from xml.dom import minidom\n",
    "import skimage.draw"
   ]
  },
  {
   "cell_type": "code",
   "execution_count": null,
   "metadata": {},
   "outputs": [],
   "source": [
    "img = np.ones((1008, 840)) # creates an array of ones of the same shape of our image\n",
    "mask_img = np.zeros((1008, 840, 3), dtype=np.uint8)\n",
    "ds_rate = 64 # downsample rate\n",
    "\n",
    "polygons = [] # list of polygons, each object is an array containing the coord of the px in a region of V_coord\n",
    "\n",
    "for region in V_coord:\n",
    "    x = [] # list of x coord in the region\n",
    "    y = [] # list of y coord in the region\n",
    "\n",
    "    for v in region:\n",
    "        # as we dont take the full resolution slide of the image, we need to divide the coord of each vertice by the downsampling rate\n",
    "        temp_x = int(v['X'])/ds_rate \n",
    "        temp_y = int(v['Y'])/ds_rate\n",
    "\n",
    "        x.append(int(temp_x))\n",
    "        y.append(int(temp_y))\n",
    "\n",
    "    # sikimage computes the coord of each px in the region from the vertices defining the perimeter of the region\n",
    "    polygons.append(skimage.draw.polygon(x,y)) "
   ]
  },
  {
   "cell_type": "code",
   "execution_count": null,
   "metadata": {},
   "outputs": [],
   "source": [
    "def png_mask(img_shape, ds_rate, V_coord):\n",
    "    mask = np.zeros((img_shape[0], img_shape[1], 3), dtype=np.uint8) # creates an array of ones of the same shape of our image\n",
    "    #ds_rate = 8 # downsample rate\n",
    "\n",
    "    # list of polygons, each object is an array containing the coords of the px in a region of V_coord\n",
    "    polygons = [] # 1 polygon / region\n",
    "\n",
    "    for region in V_coord:\n",
    "        x = [] # list of x coord in the region\n",
    "        y = [] # list of y coord in the region\n",
    "\n",
    "        # fill the x and y coord arrays\n",
    "        for v in region:\n",
    "            # as we dont take the full resolution slide of the image, \n",
    "            # we need to divide the coord of each vertice by the downsampling rate\n",
    "            temp_x = int(v['X'])/ds_rate \n",
    "            temp_y = int(v['Y'])/ds_rate\n",
    "\n",
    "            x.append(int(temp_x))\n",
    "            y.append(int(temp_y))\n",
    "\n",
    "        # sikimage computes the coord of each px in the region from the vertices defining \n",
    "        # the perimeter of the region\n",
    "        polygons.append(skimage.draw.polygon(x,y)) \n",
    "        \n",
    "    # modify mask so that each px in a region of V_coord is set to 0\n",
    "    \n",
    "    for p in range(len(polygons)):\n",
    "        poly = np.transpose(polygons[p])\n",
    "\n",
    "        for i in range(len(poly)):\n",
    "            mask[(poly[i][1], poly[i][0])] = [255, 255, 255]\n",
    "            \n",
    "       \n",
    "    return mask"
   ]
  },
  {
   "cell_type": "code",
   "execution_count": null,
   "metadata": {},
   "outputs": [],
   "source": [
    "import pipeline_IHC as pipe\n",
    "directory = \"./test_data/test_png/\"\n",
    "image = pipe.load_img(directory)\n",
    "name = \"CRC1\"\n",
    "xml = minidom.parse(\"./test_data/test_png/CRC1.annotations\")\n",
    "coords = pipe.xml_to_vertices(xml, '0')\n",
    "img_shape = image[name].shape\n",
    "print(img_shape)\n",
    "mask_img = png_mask(img_shape, 32, coords)"
   ]
  },
  {
   "cell_type": "code",
   "execution_count": null,
   "metadata": {},
   "outputs": [],
   "source": [
    "PILimg = PIL.Image.fromarray(mask_img, 'RGB')\n",
    "PILimg.save('mask.png')\n",
    "PILimg.show()"
   ]
  },
  {
   "cell_type": "code",
   "execution_count": null,
   "metadata": {},
   "outputs": [],
   "source": [
    "# modify img so that each px in a region of V_coord is set to 0\n",
    "for p in range(len(polygons)):\n",
    "    poly = np.transpose(polygons[p])\n",
    "\n",
    "    for i in range(len(poly)):\n",
    "        mask_img[(poly[i][0], poly[i][1])] = [255, 255, 255]\n",
    "        img[(poly[i][0], poly[i][1])] = 0"
   ]
  },
  {
   "cell_type": "code",
   "execution_count": null,
   "metadata": {
    "scrolled": false
   },
   "outputs": [],
   "source": [
    "mask_img.shape"
   ]
  },
  {
   "cell_type": "code",
   "execution_count": null,
   "metadata": {},
   "outputs": [],
   "source": [
    "PILimg = PIL.Image.fromarray(mask_img, 'RGB')\n",
    "PILimg.save('my.png')\n",
    "PILimg.show()"
   ]
  },
  {
   "cell_type": "markdown",
   "metadata": {},
   "source": [
    "## Write XML file"
   ]
  },
  {
   "cell_type": "code",
   "execution_count": null,
   "metadata": {},
   "outputs": [],
   "source": [
    "new_annot = minidom.Document() # create a new file\n",
    "\n",
    "annotations = new_annot.createElement(\"Annotations\") # create element Annotations\n",
    "\n",
    "annotation = new_annot.createElement(\"Annotation\") # create element Annotation\n",
    "# set all the attributes \n",
    "annotation.setAttribute('LineColor',\"65535\") \n",
    "annotation.setAttribute('Name', \"Layer 1\")\n",
    "annotation.setAttribute('Visible', \"True\")\n",
    "\n",
    "annotations.appendChild(annotation) # add Annotation to Annotations"
   ]
  },
  {
   "cell_type": "code",
   "execution_count": null,
   "metadata": {},
   "outputs": [],
   "source": [
    "for R in V_coord:\n",
    "    new_region = new_annot.createElement(\"Region\") # create a new region\n",
    "    for V in R:\n",
    "        new_vertice = new_annot.createElement(\"V\") # create a new vertice\n",
    "        # set vertice's coord\n",
    "        new_vertice.setAttribute('X', V['X'])\n",
    "        new_vertice.setAttribute('Y', V['Y'])\n",
    "        \n",
    "        new_region.appendChild(new_vertice) # add vertice to region\n",
    "        \n",
    "    annotation.appendChild(new_region) # add region to annotation"
   ]
  },
  {
   "cell_type": "code",
   "execution_count": null,
   "metadata": {},
   "outputs": [],
   "source": [
    "new_annot.appendChild(annotations) # add Annotations to our document"
   ]
  },
  {
   "cell_type": "code",
   "execution_count": null,
   "metadata": {},
   "outputs": [],
   "source": [
    "myfile = open(\"./data/annot_new.annotations\", \"w\") # open a new file\n",
    "myfile.write(new_annot.toprettyxml()) # write the content of our document in XML in the file\n",
    "myfile.close()"
   ]
  },
  {
   "cell_type": "code",
   "execution_count": null,
   "metadata": {},
   "outputs": [],
   "source": []
  }
 ],
 "metadata": {
  "kernelspec": {
   "display_name": "Python 3",
   "language": "python",
   "name": "python3"
  },
  "language_info": {
   "codemirror_mode": {
    "name": "ipython",
    "version": 3
   },
   "file_extension": ".py",
   "mimetype": "text/x-python",
   "name": "python",
   "nbconvert_exporter": "python",
   "pygments_lexer": "ipython3",
   "version": "3.8.3"
  }
 },
 "nbformat": 4,
 "nbformat_minor": 4
}
