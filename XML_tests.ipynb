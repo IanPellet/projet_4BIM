{
 "cells": [
  {
   "cell_type": "code",
   "execution_count": null,
   "metadata": {},
   "outputs": [],
   "source": [
    "from xml.dom import minidom"
   ]
  },
  {
   "cell_type": "code",
   "execution_count": null,
   "metadata": {},
   "outputs": [],
   "source": [
    "annot = minidom.parse(\"./data/annot.annotations\") # open XML file"
   ]
  },
  {
   "cell_type": "code",
   "execution_count": null,
   "metadata": {},
   "outputs": [],
   "source": [
    "regions = annot.getElementsByTagName(\"Region\") # list of regions in the annotation file\n",
    "print(len(regions))"
   ]
  },
  {
   "cell_type": "code",
   "execution_count": null,
   "metadata": {},
   "outputs": [],
   "source": [
    "V = [] # list of vertices in each region\n",
    "V_coord = [] # list of coord of each vertex in each region\n",
    "for r in regions :\n",
    "    vertices = r.getElementsByTagName(\"V\")\n",
    "    V.append(vertices)\n",
    "    \n",
    "    v_coord = []\n",
    "    for v in vertices :\n",
    "        coord = {\"X\": v.getAttribute('X'), \"Y\": v.getAttribute('Y')}\n",
    "        v_coord.append(coord)\n",
    "    V_coord.append(v_coord)"
   ]
  },
  {
   "cell_type": "code",
   "execution_count": null,
   "metadata": {},
   "outputs": [],
   "source": [
    "V_coord"
   ]
  }
 ],
 "metadata": {
  "kernelspec": {
   "display_name": "Python 3",
   "language": "python",
   "name": "python3"
  },
  "language_info": {
   "codemirror_mode": {
    "name": "ipython",
    "version": 3
   },
   "file_extension": ".py",
   "mimetype": "text/x-python",
   "name": "python",
   "nbconvert_exporter": "python",
   "pygments_lexer": "ipython3",
   "version": "3.8.3"
  }
 },
 "nbformat": 4,
 "nbformat_minor": 4
}
