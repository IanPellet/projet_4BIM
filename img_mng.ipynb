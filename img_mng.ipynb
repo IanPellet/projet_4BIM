{
 "cells": [
  {
   "cell_type": "code",
   "execution_count": null,
   "metadata": {},
   "outputs": [],
   "source": [
    "!pip install openslide-python # install openslide python API"
   ]
  },
  {
   "cell_type": "code",
   "execution_count": null,
   "metadata": {},
   "outputs": [],
   "source": [
    "import openslide\n",
    "import PIL \n",
    "import numpy as np"
   ]
  },
  {
   "cell_type": "markdown",
   "metadata": {},
   "source": [
    "- openSlide : https://openslide.org/api/python\n",
    "- PIL : https://pillow.readthedocs.io/en/stable/index.html"
   ]
  },
  {
   "cell_type": "code",
   "execution_count": null,
   "metadata": {},
   "outputs": [],
   "source": [
    "img_test = openslide.OpenSlide('./data/CRC1.ndpi') # open whole-slide image"
   ]
  },
  {
   "cell_type": "code",
   "execution_count": null,
   "metadata": {
    "scrolled": false
   },
   "outputs": [],
   "source": [
    "img_test.level_dimensions # dimensions for each levels of the slide"
   ]
  },
  {
   "cell_type": "code",
   "execution_count": null,
   "metadata": {},
   "outputs": [],
   "source": [
    "img_test.level_downsamples # downsample rates of each level"
   ]
  },
  {
   "cell_type": "code",
   "execution_count": null,
   "metadata": {},
   "outputs": [],
   "source": [
    "img_test.get_thumbnail((1200, 1200)) # RGB image of the slide of size (1200,1200)"
   ]
  },
  {
   "cell_type": "code",
   "execution_count": null,
   "metadata": {
    "scrolled": false
   },
   "outputs": [],
   "source": [
    "# for each level, print level and size and open a region of the slide\n",
    "max_size = (1800, 1000)\n",
    "for lvl in range(img_test.level_count):\n",
    "    lvl_size = img_test.level_dimensions[lvl]\n",
    "    print(lvl, lvl_size)\n",
    "    disp_size = max_size if lvl_size > max_size else lvl_size\n",
    "    \n",
    "    img_test.read_region((0,0), lvl, disp_size).show()"
   ]
  },
  {
   "cell_type": "code",
   "execution_count": null,
   "metadata": {},
   "outputs": [],
   "source": [
    "# we can extract a region of a level of our slide\n",
    "PIL_img = img_test.read_region((8000,4000), 5, (1200, 1200))\n",
    "type(PIL_img)"
   ]
  },
  {
   "cell_type": "code",
   "execution_count": null,
   "metadata": {},
   "outputs": [],
   "source": [
    "np_img = np.array(PIL_img) # convert PIL Image to a Numpy array\n",
    "np_img.shape # RGBA"
   ]
  },
  {
   "cell_type": "code",
   "execution_count": null,
   "metadata": {},
   "outputs": [],
   "source": [
    "img_test.close() # close image"
   ]
  }
 ],
 "metadata": {
  "kernelspec": {
   "display_name": "Python 3",
   "language": "python",
   "name": "python3"
  },
  "language_info": {
   "codemirror_mode": {
    "name": "ipython",
    "version": 3
   },
   "file_extension": ".py",
   "mimetype": "text/x-python",
   "name": "python",
   "nbconvert_exporter": "python",
   "pygments_lexer": "ipython3",
   "version": "3.8.3"
  }
 },
 "nbformat": 4,
 "nbformat_minor": 4
}
