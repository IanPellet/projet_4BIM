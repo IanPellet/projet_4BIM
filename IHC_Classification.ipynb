{
 "cells": [
  {
   "cell_type": "markdown",
   "metadata": {
    "id": "0lXrJ-3qO9_A"
   },
   "source": [
    "# Développement d’un module de classification d’images IHC par IA\n",
    "\n",
    "### By Maëlle Broustal, Rafik Mankour & Ian Pellet"
   ]
  },
  {
   "cell_type": "markdown",
   "metadata": {
    "id": "GgzDcWWTlkUd"
   },
   "source": [
    "## Import"
   ]
  },
  {
   "cell_type": "code",
   "execution_count": 1,
   "metadata": {
    "id": "X_6phcYzOena"
   },
   "outputs": [],
   "source": [
    "import numpy as np\n",
    "import pandas as pd\n",
    "import skimage\n",
    "import skimage.draw\n",
    "import skimage.measure\n",
    "import matplotlib.pyplot as plt\n",
    "from xml.dom import minidom as minidom\n",
    "import PIL "
   ]
  },
  {
   "cell_type": "code",
   "execution_count": 3,
   "metadata": {
    "id": "hOORTkeUHnVh"
   },
   "outputs": [],
   "source": [
    "#from tensorflow import keras as k"
   ]
  },
  {
   "cell_type": "code",
   "execution_count": 4,
   "metadata": {
    "colab": {
     "base_uri": "https://localhost:8080/",
     "height": 36
    },
    "executionInfo": {
     "elapsed": 3575,
     "status": "ok",
     "timestamp": 1615967690192,
     "user": {
      "displayName": "Maëlle B",
      "photoUrl": "",
      "userId": "07714757650217289408"
     },
     "user_tz": -60
    },
    "id": "Uo5efSnzOP2L",
    "outputId": "fccd200e-3718-42de-c2de-b044e07dffd7"
   },
   "outputs": [
    {
     "ename": "NameError",
     "evalue": "name 'k' is not defined",
     "output_type": "error",
     "traceback": [
      "\u001b[0;31m---------------------------------------------------------------------------\u001b[0m",
      "\u001b[0;31mNameError\u001b[0m                                 Traceback (most recent call last)",
      "\u001b[0;32m<ipython-input-4-104657d1b72d>\u001b[0m in \u001b[0;36m<module>\u001b[0;34m\u001b[0m\n\u001b[0;32m----> 1\u001b[0;31m \u001b[0mk\u001b[0m\u001b[0;34m.\u001b[0m\u001b[0m__version__\u001b[0m\u001b[0;34m\u001b[0m\u001b[0;34m\u001b[0m\u001b[0m\n\u001b[0m",
      "\u001b[0;31mNameError\u001b[0m: name 'k' is not defined"
     ]
    }
   ],
   "source": [
    "k.__version__"
   ]
  },
  {
   "cell_type": "code",
   "execution_count": null,
   "metadata": {
    "colab": {
     "base_uri": "https://localhost:8080/"
    },
    "executionInfo": {
     "elapsed": 34266,
     "status": "ok",
     "timestamp": 1616319166117,
     "user": {
      "displayName": "Maëlle B",
      "photoUrl": "",
      "userId": "07714757650217289408"
     },
     "user_tz": -60
    },
    "id": "KZ4WbK0W8Vll",
    "outputId": "cb2b5727-e1f1-4df5-b4ae-d25970edbe74"
   },
   "outputs": [
    {
     "name": "stdout",
     "output_type": "stream",
     "text": [
      "Mounted at /content/drive/\n"
     ]
    }
   ],
   "source": [
    "from google.colab import drive\n",
    "drive.mount('/content/drive/')"
   ]
  },
  {
   "cell_type": "markdown",
   "metadata": {
    "id": "AyliVi1RloZA"
   },
   "source": [
    "### Openslide"
   ]
  },
  {
   "cell_type": "code",
   "execution_count": null,
   "metadata": {
    "colab": {
     "base_uri": "https://localhost:8080/"
    },
    "executionInfo": {
     "elapsed": 25458,
     "status": "ok",
     "timestamp": 1616318926613,
     "user": {
      "displayName": "Maëlle B",
      "photoUrl": "",
      "userId": "07714757650217289408"
     },
     "user_tz": -60
    },
    "id": "LFW9E9bhL66w",
    "outputId": "48272968-eda9-47e4-f155-b079e54f2ea9"
   },
   "outputs": [
    {
     "name": "stdout",
     "output_type": "stream",
     "text": [
      "Get:1 https://cloud.r-project.org/bin/linux/ubuntu bionic-cran40/ InRelease [3,626 B]\n",
      "Ign:2 https://developer.download.nvidia.com/compute/cuda/repos/ubuntu1804/x86_64  InRelease\n",
      "Hit:3 http://archive.ubuntu.com/ubuntu bionic InRelease\n",
      "Get:4 http://security.ubuntu.com/ubuntu bionic-security InRelease [88.7 kB]\n",
      "Ign:5 https://developer.download.nvidia.com/compute/machine-learning/repos/ubuntu1804/x86_64  InRelease\n",
      "Hit:6 https://developer.download.nvidia.com/compute/cuda/repos/ubuntu1804/x86_64  Release\n",
      "Get:7 http://ppa.launchpad.net/c2d4u.team/c2d4u4.0+/ubuntu bionic InRelease [15.9 kB]\n",
      "Hit:8 https://developer.download.nvidia.com/compute/machine-learning/repos/ubuntu1804/x86_64  Release\n",
      "Get:9 http://archive.ubuntu.com/ubuntu bionic-updates InRelease [88.7 kB]\n",
      "Hit:10 http://ppa.launchpad.net/cran/libgit2/ubuntu bionic InRelease\n",
      "Get:11 http://archive.ubuntu.com/ubuntu bionic-backports InRelease [74.6 kB]\n",
      "Hit:12 http://ppa.launchpad.net/deadsnakes/ppa/ubuntu bionic InRelease\n",
      "Get:14 http://ppa.launchpad.net/graphics-drivers/ppa/ubuntu bionic InRelease [21.3 kB]\n",
      "Get:16 http://ppa.launchpad.net/c2d4u.team/c2d4u4.0+/ubuntu bionic/main Sources [1,747 kB]\n",
      "Get:17 http://security.ubuntu.com/ubuntu bionic-security/restricted amd64 Packages [339 kB]\n",
      "Get:18 http://security.ubuntu.com/ubuntu bionic-security/main amd64 Packages [2,009 kB]\n",
      "Get:19 http://archive.ubuntu.com/ubuntu bionic-updates/main amd64 Packages [2,439 kB]\n",
      "Get:20 http://ppa.launchpad.net/c2d4u.team/c2d4u4.0+/ubuntu bionic/main amd64 Packages [894 kB]\n",
      "Get:21 http://archive.ubuntu.com/ubuntu bionic-updates/universe amd64 Packages [2,165 kB]\n",
      "Get:22 http://archive.ubuntu.com/ubuntu bionic-updates/restricted amd64 Packages [368 kB]\n",
      "Get:23 http://ppa.launchpad.net/graphics-drivers/ppa/ubuntu bionic/main amd64 Packages [49.4 kB]\n",
      "Fetched 10.3 MB in 3s (3,436 kB/s)\n",
      "Reading package lists... Done\n",
      "Building dependency tree       \n",
      "Reading state information... Done\n",
      "53 packages can be upgraded. Run 'apt list --upgradable' to see them.\n",
      "Reading package lists... Done\n",
      "Building dependency tree       \n",
      "Reading state information... Done\n",
      "The following additional packages will be installed:\n",
      "  libopenslide0\n",
      "Suggested packages:\n",
      "  libtiff-tools\n",
      "The following NEW packages will be installed:\n",
      "  libopenslide0 openslide-tools\n",
      "0 upgraded, 2 newly installed, 0 to remove and 53 not upgraded.\n",
      "Need to get 92.5 kB of archives.\n",
      "After this operation, 268 kB of additional disk space will be used.\n",
      "Get:1 http://archive.ubuntu.com/ubuntu bionic/universe amd64 libopenslide0 amd64 3.4.1+dfsg-2 [79.8 kB]\n",
      "Get:2 http://archive.ubuntu.com/ubuntu bionic/universe amd64 openslide-tools amd64 3.4.1+dfsg-2 [12.7 kB]\n",
      "Fetched 92.5 kB in 1s (181 kB/s)\n",
      "Selecting previously unselected package libopenslide0.\n",
      "(Reading database ... 160980 files and directories currently installed.)\n",
      "Preparing to unpack .../libopenslide0_3.4.1+dfsg-2_amd64.deb ...\n",
      "Unpacking libopenslide0 (3.4.1+dfsg-2) ...\n",
      "Selecting previously unselected package openslide-tools.\n",
      "Preparing to unpack .../openslide-tools_3.4.1+dfsg-2_amd64.deb ...\n",
      "Unpacking openslide-tools (3.4.1+dfsg-2) ...\n",
      "Setting up libopenslide0 (3.4.1+dfsg-2) ...\n",
      "Setting up openslide-tools (3.4.1+dfsg-2) ...\n",
      "Processing triggers for libc-bin (2.27-3ubuntu1.2) ...\n",
      "/sbin/ldconfig.real: /usr/local/lib/python3.7/dist-packages/ideep4py/lib/libmkldnn.so.0 is not a symbolic link\n",
      "\n",
      "Processing triggers for man-db (2.8.3-2ubuntu0.1) ...\n",
      "Collecting openslide-python\n",
      "\u001b[?25l  Downloading https://files.pythonhosted.org/packages/03/da/12dc0e7566ace61a5a65244220458dcb656b09cbf18ca50f3098875d97e4/openslide-python-1.1.2.tar.gz (316kB)\n",
      "\u001b[K     |████████████████████████████████| 317kB 4.5MB/s \n",
      "\u001b[?25hRequirement already satisfied: Pillow in /usr/local/lib/python3.7/dist-packages (from openslide-python) (7.0.0)\n",
      "Building wheels for collected packages: openslide-python\n",
      "  Building wheel for openslide-python (setup.py) ... \u001b[?25l\u001b[?25hdone\n",
      "  Created wheel for openslide-python: filename=openslide_python-1.1.2-cp37-cp37m-linux_x86_64.whl size=27651 sha256=b46e4f388bd9afa47aae9dd9ae8647b42f7ac720a83f86dd8f5b35603c70de49\n",
      "  Stored in directory: /root/.cache/pip/wheels/6b/55/74/ba9d3dcc2c5c0f1282e08bae70df0ed57b496fb6b5c8f1adc9\n",
      "Successfully built openslide-python\n",
      "Installing collected packages: openslide-python\n",
      "Successfully installed openslide-python-1.1.2\n"
     ]
    }
   ],
   "source": [
    "!apt update && apt install -y openslide-tools\n",
    "!pip install openslide-python"
   ]
  },
  {
   "cell_type": "code",
   "execution_count": 5,
   "metadata": {
    "id": "r6mZlIIq_NA_"
   },
   "outputs": [],
   "source": [
    "import openslide"
   ]
  },
  {
   "cell_type": "markdown",
   "metadata": {
    "id": "L7JPC_D6OeW8"
   },
   "source": [
    "## Annotation"
   ]
  },
  {
   "cell_type": "markdown",
   "metadata": {
    "id": "BPha-wvXlvMD"
   },
   "source": [
    "L'annotion est faite sous ce format : (les ... représentent un skip)\n",
    "```\n",
    "<Annotations><Annotation LineColor=\"65535\" Name=\"Layer 1\" Visible=\"True\"><Regions><Region Type=\"Polygon\" HasEndcaps=\"0\" \n",
    "NegativeROA=\"0\"><Vertices><V X=\"2667\" Y=\"16944\" /><V X=\"2667\" Y=\"16967\" />\n",
    "<V X=\"2667\" Y=\"17058\" /><V X=\"2576\" Y=\"17422\" /><V X=\"2440\" Y=\"18104\" /><V X=\"2394\" Y=\"18445\" /><V X=\"2394\" Y=\"18627\" /><V X=\"2394\" Y=\"18900\" />\n",
    "<V X=\"2394\" Y=\"19286\" /><V X=\"2394\" Y=\"19696\" /><V X=\"2394\" Y=\"20082\" /><V X=\"2303\" Y=\"20423\" /><V X=\"2281\" Y=\"20651\" /><V X=\"2190\" Y=\"20946\" />\n",
    "<V X=\"2099\" Y=\"21242\" /><V X=\"2112\" Y=\"21410\" /><V X=\"2112\" Y=\"21545\" /><V X=\"2090\" Y=\"21613\" /><V X=\"2090\" Y=\"21725\" /><V X=\"2090\" Y=\"21793\" />\n",
    "<V X=\"2090\" Y=\"21838\" /> ... <V X=\"2090\" Y=\"21928\" /></Vertices></Region> </Regions></Annotation></Annotations>\n",
    "\n",
    "```"
   ]
  },
  {
   "cell_type": "markdown",
   "metadata": {
    "id": "_IbOBcPBDaSX"
   },
   "source": [
    "### etree.ElementTree"
   ]
  },
  {
   "cell_type": "markdown",
   "metadata": {
    "id": "siG5pzNcLHIe"
   },
   "source": [
    "#### Extraction de vertex"
   ]
  },
  {
   "cell_type": "markdown",
   "metadata": {
    "id": "R9dKfBOnl15D"
   },
   "source": [
    "Méthode 1:\n",
    "trouver la fonction qui le fait déjà à notre place\n",
    "\n",
    "Méthode 2:\n",
    "* pour récupérer les points:\n",
    "  * récupérer l'annotation comme un string\n",
    "  * extraire name, NegativeROA\n",
    "  * extraire chaque coordonnée: liste de vertices? X et Y\n",
    "* pour utiliser la fonction polygon:\n",
    "  * créer les vecteurs d'un point au suivant (nécessité de notion d'ordre -> array & df ok)\n",
    "  * c'est tout"
   ]
  },
  {
   "cell_type": "code",
   "execution_count": null,
   "metadata": {
    "colab": {
     "base_uri": "https://localhost:8080/",
     "height": 382
    },
    "executionInfo": {
     "elapsed": 1122,
     "status": "error",
     "timestamp": 1615913797012,
     "user": {
      "displayName": "Ian Pellet",
      "photoUrl": "https://lh3.googleusercontent.com/-VquyaV9apz0/AAAAAAAAAAI/AAAAAAAAAEs/jOmz2uWB17E/s64/photo.jpg",
      "userId": "02004371459168203791"
     },
     "user_tz": -60
    },
    "id": "HTqzYWC4qUok",
    "outputId": "6583d375-8139-4e84-9871-548ad4834db3"
   },
   "outputs": [
    {
     "ename": "FileNotFoundError",
     "evalue": "ignored",
     "output_type": "error",
     "traceback": [
      "\u001b[0;31m---------------------------------------------------------------------------\u001b[0m",
      "\u001b[0;31mFileNotFoundError\u001b[0m                         Traceback (most recent call last)",
      "\u001b[0;32m<ipython-input-42-141c90ee7099>\u001b[0m in \u001b[0;36m<module>\u001b[0;34m()\u001b[0m\n\u001b[1;32m      1\u001b[0m \u001b[0;32mimport\u001b[0m \u001b[0mxml\u001b[0m\u001b[0;34m.\u001b[0m\u001b[0metree\u001b[0m\u001b[0;34m.\u001b[0m\u001b[0mElementTree\u001b[0m \u001b[0;32mas\u001b[0m \u001b[0mET\u001b[0m\u001b[0;34m\u001b[0m\u001b[0;34m\u001b[0m\u001b[0m\n\u001b[1;32m      2\u001b[0m \u001b[0;34m\u001b[0m\u001b[0m\n\u001b[0;32m----> 3\u001b[0;31m \u001b[0mtree\u001b[0m \u001b[0;34m=\u001b[0m \u001b[0mET\u001b[0m\u001b[0;34m.\u001b[0m\u001b[0mparse\u001b[0m\u001b[0;34m(\u001b[0m\u001b[0;34m'annot.annotations'\u001b[0m\u001b[0;34m)\u001b[0m\u001b[0;34m\u001b[0m\u001b[0;34m\u001b[0m\u001b[0m\n\u001b[0m\u001b[1;32m      4\u001b[0m \u001b[0mroot\u001b[0m \u001b[0;34m=\u001b[0m \u001b[0mtree\u001b[0m\u001b[0;34m.\u001b[0m\u001b[0mgetroot\u001b[0m\u001b[0;34m(\u001b[0m\u001b[0;34m)\u001b[0m\u001b[0;34m\u001b[0m\u001b[0;34m\u001b[0m\u001b[0m\n\u001b[1;32m      5\u001b[0m \u001b[0;34m\u001b[0m\u001b[0m\n",
      "\u001b[0;32m/usr/lib/python3.7/xml/etree/ElementTree.py\u001b[0m in \u001b[0;36mparse\u001b[0;34m(source, parser)\u001b[0m\n\u001b[1;32m   1195\u001b[0m     \"\"\"\n\u001b[1;32m   1196\u001b[0m     \u001b[0mtree\u001b[0m \u001b[0;34m=\u001b[0m \u001b[0mElementTree\u001b[0m\u001b[0;34m(\u001b[0m\u001b[0;34m)\u001b[0m\u001b[0;34m\u001b[0m\u001b[0;34m\u001b[0m\u001b[0m\n\u001b[0;32m-> 1197\u001b[0;31m     \u001b[0mtree\u001b[0m\u001b[0;34m.\u001b[0m\u001b[0mparse\u001b[0m\u001b[0;34m(\u001b[0m\u001b[0msource\u001b[0m\u001b[0;34m,\u001b[0m \u001b[0mparser\u001b[0m\u001b[0;34m)\u001b[0m\u001b[0;34m\u001b[0m\u001b[0;34m\u001b[0m\u001b[0m\n\u001b[0m\u001b[1;32m   1198\u001b[0m     \u001b[0;32mreturn\u001b[0m \u001b[0mtree\u001b[0m\u001b[0;34m\u001b[0m\u001b[0;34m\u001b[0m\u001b[0m\n\u001b[1;32m   1199\u001b[0m \u001b[0;34m\u001b[0m\u001b[0m\n",
      "\u001b[0;32m/usr/lib/python3.7/xml/etree/ElementTree.py\u001b[0m in \u001b[0;36mparse\u001b[0;34m(self, source, parser)\u001b[0m\n\u001b[1;32m    585\u001b[0m         \u001b[0mclose_source\u001b[0m \u001b[0;34m=\u001b[0m \u001b[0;32mFalse\u001b[0m\u001b[0;34m\u001b[0m\u001b[0;34m\u001b[0m\u001b[0m\n\u001b[1;32m    586\u001b[0m         \u001b[0;32mif\u001b[0m \u001b[0;32mnot\u001b[0m \u001b[0mhasattr\u001b[0m\u001b[0;34m(\u001b[0m\u001b[0msource\u001b[0m\u001b[0;34m,\u001b[0m \u001b[0;34m\"read\"\u001b[0m\u001b[0;34m)\u001b[0m\u001b[0;34m:\u001b[0m\u001b[0;34m\u001b[0m\u001b[0;34m\u001b[0m\u001b[0m\n\u001b[0;32m--> 587\u001b[0;31m             \u001b[0msource\u001b[0m \u001b[0;34m=\u001b[0m \u001b[0mopen\u001b[0m\u001b[0;34m(\u001b[0m\u001b[0msource\u001b[0m\u001b[0;34m,\u001b[0m \u001b[0;34m\"rb\"\u001b[0m\u001b[0;34m)\u001b[0m\u001b[0;34m\u001b[0m\u001b[0;34m\u001b[0m\u001b[0m\n\u001b[0m\u001b[1;32m    588\u001b[0m             \u001b[0mclose_source\u001b[0m \u001b[0;34m=\u001b[0m \u001b[0;32mTrue\u001b[0m\u001b[0;34m\u001b[0m\u001b[0;34m\u001b[0m\u001b[0m\n\u001b[1;32m    589\u001b[0m         \u001b[0;32mtry\u001b[0m\u001b[0;34m:\u001b[0m\u001b[0;34m\u001b[0m\u001b[0;34m\u001b[0m\u001b[0m\n",
      "\u001b[0;31mFileNotFoundError\u001b[0m: [Errno 2] No such file or directory: 'annot.annotations'"
     ]
    }
   ],
   "source": [
    "import xml.etree.ElementTree as ET\n",
    "\n",
    "tree = ET.parse('annot.annotations')\n",
    "root = tree.getroot()\n",
    "\n",
    "# one specific item attribute\n",
    "print('Item #2 attribute:')\n",
    "print(root[0][0][0][0][0].attrib)\n",
    "#root[annotations][annotation][régions][région][sommet]\n",
    "\n",
    "# all item attributes\n",
    "print('\\nAll attributes:')\n",
    "for elem in root:\n",
    "    for subelem in elem:\n",
    "        print(subelem.attrib)\n",
    "\n",
    "# one specific item's data\n",
    "print('\\nItem #2 data:')\n",
    "print(root[0].text)\n",
    "\n",
    "# all items data\n",
    "print('\\nAll item data:')\n",
    "for elem in root:\n",
    "    for subelem in elem:\n",
    "        print(subelem.text)"
   ]
  },
  {
   "cell_type": "code",
   "execution_count": null,
   "metadata": {
    "colab": {
     "base_uri": "https://localhost:8080/",
     "height": 167
    },
    "executionInfo": {
     "elapsed": 1506,
     "status": "error",
     "timestamp": 1615913797405,
     "user": {
      "displayName": "Ian Pellet",
      "photoUrl": "https://lh3.googleusercontent.com/-VquyaV9apz0/AAAAAAAAAAI/AAAAAAAAAEs/jOmz2uWB17E/s64/photo.jpg",
      "userId": "02004371459168203791"
     },
     "user_tz": -60
    },
    "id": "30kMfYw7201U",
    "outputId": "82c13ba3-4266-4afc-eedd-2ac75404e2a5"
   },
   "outputs": [
    {
     "ename": "NameError",
     "evalue": "ignored",
     "output_type": "error",
     "traceback": [
      "\u001b[0;31m---------------------------------------------------------------------------\u001b[0m",
      "\u001b[0;31mNameError\u001b[0m                                 Traceback (most recent call last)",
      "\u001b[0;32m<ipython-input-43-2d56f2b79611>\u001b[0m in \u001b[0;36m<module>\u001b[0;34m()\u001b[0m\n\u001b[0;32m----> 1\u001b[0;31m \u001b[0mlen\u001b[0m\u001b[0;34m(\u001b[0m\u001b[0mroot\u001b[0m\u001b[0;34m)\u001b[0m\u001b[0;34m,\u001b[0m \u001b[0mlen\u001b[0m\u001b[0;34m(\u001b[0m\u001b[0mroot\u001b[0m\u001b[0;34m[\u001b[0m\u001b[0;36m0\u001b[0m\u001b[0;34m]\u001b[0m\u001b[0;34m)\u001b[0m\u001b[0;34m,\u001b[0m \u001b[0mlen\u001b[0m\u001b[0;34m(\u001b[0m\u001b[0mroot\u001b[0m\u001b[0;34m[\u001b[0m\u001b[0;36m0\u001b[0m\u001b[0;34m]\u001b[0m\u001b[0;34m[\u001b[0m\u001b[0;36m0\u001b[0m\u001b[0;34m]\u001b[0m\u001b[0;34m)\u001b[0m\u001b[0;34m,\u001b[0m \u001b[0mlen\u001b[0m\u001b[0;34m(\u001b[0m\u001b[0mroot\u001b[0m\u001b[0;34m[\u001b[0m\u001b[0;36m0\u001b[0m\u001b[0;34m]\u001b[0m\u001b[0;34m[\u001b[0m\u001b[0;36m0\u001b[0m\u001b[0;34m]\u001b[0m\u001b[0;34m[\u001b[0m\u001b[0;36m0\u001b[0m\u001b[0;34m]\u001b[0m\u001b[0;34m)\u001b[0m\u001b[0;34m,\u001b[0m \u001b[0mlen\u001b[0m\u001b[0;34m(\u001b[0m\u001b[0mroot\u001b[0m\u001b[0;34m[\u001b[0m\u001b[0;36m0\u001b[0m\u001b[0;34m]\u001b[0m\u001b[0;34m[\u001b[0m\u001b[0;36m0\u001b[0m\u001b[0;34m]\u001b[0m\u001b[0;34m[\u001b[0m\u001b[0;36m0\u001b[0m\u001b[0;34m]\u001b[0m\u001b[0;34m[\u001b[0m\u001b[0;36m0\u001b[0m\u001b[0;34m]\u001b[0m\u001b[0;34m)\u001b[0m\u001b[0;34m,\u001b[0m \u001b[0mlen\u001b[0m\u001b[0;34m(\u001b[0m\u001b[0mroot\u001b[0m\u001b[0;34m[\u001b[0m\u001b[0;36m0\u001b[0m\u001b[0;34m]\u001b[0m\u001b[0;34m[\u001b[0m\u001b[0;36m0\u001b[0m\u001b[0;34m]\u001b[0m\u001b[0;34m[\u001b[0m\u001b[0;36m0\u001b[0m\u001b[0;34m]\u001b[0m\u001b[0;34m[\u001b[0m\u001b[0;36m0\u001b[0m\u001b[0;34m]\u001b[0m\u001b[0;34m[\u001b[0m\u001b[0;36m0\u001b[0m\u001b[0;34m]\u001b[0m\u001b[0;34m)\u001b[0m\u001b[0;34m\u001b[0m\u001b[0;34m\u001b[0m\u001b[0m\n\u001b[0m",
      "\u001b[0;31mNameError\u001b[0m: name 'root' is not defined"
     ]
    }
   ],
   "source": [
    "len(root), len(root[0]), len(root[0][0]), len(root[0][0][0]), len(root[0][0][0][0]), len(root[0][0][0][0][0])"
   ]
  },
  {
   "cell_type": "code",
   "execution_count": null,
   "metadata": {
    "id": "vDU4ghnovUVm"
   },
   "outputs": [],
   "source": [
    "# liste of vertices:\n",
    "\n",
    "#liste de polygones avec tous leurs vertices\n",
    "#liste de listes (les polygones) d'objets (les vertices)\n",
    "# [ [régionA-vertice1, régionA-vertice2, régionA-verticeplein], [régionB-vertice 1, régionB-vertice2, régionB-verticebcp...]]\n",
    "\n",
    "print('\\nAll vertices:')\n",
    "\n",
    "vertices_list = [[]for i in range(len(root[0][0]))]\n",
    "for annotation in root: #normalement y a qu'une\n",
    "  for regions in annotation: #normalement y en a qu'une\n",
    "    for n, region in enumerate(regions):\n",
    "      print(\"new region\")\n",
    "      print(n)\n",
    "      for vertices in region:\n",
    "        for vertice in vertices:\n",
    "          vertices_list[n].append(vertice.attrib)\n",
    "\n",
    "vertices_list"
   ]
  },
  {
   "cell_type": "markdown",
   "metadata": {
    "id": "SEQ9oreFKT8S"
   },
   "source": [
    "### dom.minidom"
   ]
  },
  {
   "cell_type": "markdown",
   "metadata": {
    "id": "wSuMI6iyKyix"
   },
   "source": [
    "#### Extraction vertex d'une annotation"
   ]
  },
  {
   "cell_type": "code",
   "execution_count": null,
   "metadata": {
    "id": "PV_hX2EHKXGz"
   },
   "outputs": [],
   "source": [
    "#pour Rafik\n",
    "annot = minidom.parse(\"/content/drive/MyDrive/data/annot.annotations\") # open XML file"
   ]
  },
  {
   "cell_type": "code",
   "execution_count": null,
   "metadata": {
    "id": "eUqVkvZFW03u"
   },
   "outputs": [],
   "source": [
    "#pour Mallou\n",
    "annot = minidom.parse(\"/content/drive/MyDrive/Projet 4BIM/data/annot.annotations\") # open XML file"
   ]
  },
  {
   "cell_type": "code",
   "execution_count": null,
   "metadata": {
    "colab": {
     "base_uri": "https://localhost:8080/"
    },
    "executionInfo": {
     "elapsed": 537,
     "status": "ok",
     "timestamp": 1616319175449,
     "user": {
      "displayName": "Maëlle B",
      "photoUrl": "",
      "userId": "07714757650217289408"
     },
     "user_tz": -60
    },
    "id": "PAqI0ABIKd3Q",
    "outputId": "ccf94303-2250-4271-a82f-4265f9a01cca"
   },
   "outputs": [
    {
     "name": "stdout",
     "output_type": "stream",
     "text": [
      "26\n"
     ]
    }
   ],
   "source": [
    "regions = annot.getElementsByTagName(\"Region\") # list of regions in the annotation file\n",
    "print(len(regions))"
   ]
  },
  {
   "cell_type": "code",
   "execution_count": null,
   "metadata": {
    "id": "KG2yqZYiKfFB"
   },
   "outputs": [],
   "source": [
    "V = [] # list of vertices in each region\n",
    "V_coord = [] # list of coord of each vertex in each region\n",
    "for r in regions :\n",
    "  if r.getAttribute(\"NegativeROA\")=='0': \n",
    "    vertices = r.getElementsByTagName(\"V\")\n",
    "    V.append(vertices)\n",
    "    \n",
    "    v_coord = []\n",
    "    for v in vertices :\n",
    "        coord = {\"X\": v.getAttribute('X'), \"Y\": v.getAttribute('Y')}\n",
    "        v_coord.append(coord)\n",
    "    V_coord.append(v_coord)"
   ]
  },
  {
   "cell_type": "markdown",
   "metadata": {
    "id": "gPLlCT_H8pfa"
   },
   "source": [
    "#### 0/1 array representation of regions of interest"
   ]
  },
  {
   "cell_type": "code",
   "execution_count": null,
   "metadata": {
    "id": "ixyv-0weobMn"
   },
   "outputs": [],
   "source": [
    "img = np.ones((8064, 6720)) # creates an array of ones of the same shape of our image\n",
    "ds_rate = 8 # downsample rate\n",
    "\n",
    "polygons = [] # list of polygons, each object is an array containing the coord of the px in a region of V_coord\n",
    "\n",
    "for region in V_coord:\n",
    "  x = [] # list of x coord in the region\n",
    "  y = [] # list of y coord in the region\n",
    "  \n",
    "  for v in region:\n",
    "    # as we dont take the full resolution slide of the image, we need to divide the coord of each vertice by the downsampling rate\n",
    "    temp_x = int(v['X'])/ds_rate \n",
    "    temp_y = int(v['Y'])/ds_rate\n",
    "    \n",
    "    x.append(int(temp_x))\n",
    "    y.append(int(temp_y))\n",
    "\n",
    "  # sikimage computes the coord of each px in the region from the vertices defining the perimeter of the region\n",
    "  polygons.append(skimage.draw.polygon(x,y)) "
   ]
  },
  {
   "cell_type": "code",
   "execution_count": null,
   "metadata": {
    "id": "edaN7TQixwW-"
   },
   "outputs": [],
   "source": [
    "# modify img so that each px in a region of V_coord is set to 0\n",
    "for p in range(len(polygons)):\n",
    "  poly = np.transpose(polygons[p])\n",
    "\n",
    "  for i in range(len(poly)):\n",
    "    img[(poly[i][0], poly[i][1])] = 0"
   ]
  },
  {
   "cell_type": "markdown",
   "metadata": {
    "id": "Zqq-LHN-Unq8"
   },
   "source": [
    "#### Passage de la matrice au vertex_list"
   ]
  },
  {
   "cell_type": "code",
   "execution_count": null,
   "metadata": {
    "id": "epUjfYDmXU9H"
   },
   "outputs": [],
   "source": []
  },
  {
   "cell_type": "code",
   "execution_count": null,
   "metadata": {
    "id": "9t7O8X-yZetH"
   },
   "outputs": [],
   "source": [
    "def neighbors(point):\n",
    "  x = point.get(\"X\")\n",
    "  y = point.get(\"Y\")\n",
    "  #n1={\"X\":x-1, \"Y\":y-1}\n",
    "  #neighbors_list=[n1]\n",
    "  neighbors_list = [{\"X\": x-1, \"Y\": y-1},{\"X\":x-1, \"Y\":y},{\"X\":x-1, \"Y\":y+1}, {\"X\":x, \"Y\":y-1}, {\"X\":x, \"Y\":y+1}, {\"X\":x+1, \"Y\":y-1}, {\"X\":x+1, \"Y\":y}, {\"X\":x+1, \"Y\":y+1}]\n",
    "  return neighbors_list"
   ]
  },
  {
   "cell_type": "code",
   "execution_count": null,
   "metadata": {
    "id": "97IjKNYgu1_N"
   },
   "outputs": [],
   "source": [
    "def isolation(matrix):\n",
    "\n",
    "  regions = [] #liste des régions\n",
    "  nb_r = 0 #nombre de régions\n",
    "\n",
    "  for x, line in enumerate(matrix):\n",
    "    for y, value in enumerate(line):\n",
    "\n",
    "      if value==1: \n",
    "        print \n",
    "        new_point = {\"X\":x, \"Y\":y}\n",
    "        #une fois qu'on a trouvé un point d'intérêt, on vérifie qu'il n'est pas déjà dans une région\n",
    "        already = False \n",
    "        for region in regions:\n",
    "          if new_point in region:\n",
    "            already = True\n",
    "\n",
    "        if already == False: \n",
    "          #s'il n'est nulle part, on crée une nouvelle région          \n",
    "          regions.append([])\n",
    "          actual_r = nb_r    # je sais pas comment conserver le numéro de la région où on est, alors le voilà\n",
    "          nb_r += 1          # ça c'est pour plus tard\n",
    "\n",
    "          #puis on regarde ses voisins: pour ça, on l'ajoute à la liste-d'attente-des-points\n",
    "          waiting = []\n",
    "          waiting.append(new_point)\n",
    "\n",
    "          #et on travaille ensuite à partir de la liste d'attente\n",
    "          for point in waiting:\n",
    "            if point.get(\"X\") >= 0 and point.get(\"Y\") >= 0 and point.get(\"X\")<=len(matrix)-1 and point.get(\"Y\")<=len(line)-1 and matrix[point.get(\"X\")][point.get(\"Y\")] == 1:\n",
    "              if point not in regions[actual_r]:\n",
    "                regions[actual_r].append(point)\n",
    "                for neighbor in neighbors(point):\n",
    "                  #is this point already in regions[actual_r]?\n",
    "                  if neighbor not in regions[actual_r]:\n",
    "                    waiting.append(neighbor)\n",
    "\n",
    "  return regions"
   ]
  },
  {
   "cell_type": "code",
   "execution_count": null,
   "metadata": {
    "id": "5MoMQYWPZiFg"
   },
   "outputs": [],
   "source": [
    "def matrix_to_vertices(matrix):\n",
    " \n",
    "  regions = isolation(matrix)\n",
    "  vertices=[]\n",
    "\n",
    "  for r, region in enumerate(regions):\n",
    "    vertices.append([])\n",
    "\n",
    "    for point_of_interest in region:\n",
    "      x = point_of_interest.get(\"X\")\n",
    "      y = point_of_interest.get(\"Y\")\n",
    "\n",
    "      if x==0 or y==0 or x==len(matrix)-1 or y==len(line)-1:\n",
    "        contour = True #le point appartient à un \"bord\" de la matrice\n",
    "\n",
    "      elif sum([matrix[x-1][y-1], matrix[x-1][y], matrix[x-1][y-1], matrix[x][y-1], matrix[x][y+1], matrix[x+1][y+1], matrix[x+1][y-1], matrix[x+1][y]])<=5:\n",
    "        contour = True #le point est un contour hors bordure\n",
    "\n",
    "      if contour == True:\n",
    "        vertices[r].append(point_of_interest)\n",
    "\n",
    "  return vertices "
   ]
  },
  {
   "cell_type": "code",
   "execution_count": null,
   "metadata": {
    "id": "dMRM3TAsS-63"
   },
   "outputs": [],
   "source": [
    "matrix = [[1,1,1,0,0],[1,1,0,0,0],[0,0,0,1,1],[0,0,1,1,1],[0,1,1,1,0]]"
   ]
  },
  {
   "cell_type": "code",
   "execution_count": null,
   "metadata": {
    "colab": {
     "base_uri": "https://localhost:8080/"
    },
    "executionInfo": {
     "elapsed": 632,
     "status": "ok",
     "timestamp": 1616323545493,
     "user": {
      "displayName": "Maëlle B",
      "photoUrl": "",
      "userId": "07714757650217289408"
     },
     "user_tz": -60
    },
    "id": "uDBO1tLgT4R8",
    "outputId": "2a501bae-1de2-4a25-cf60-683565575fde"
   },
   "outputs": [
    {
     "data": {
      "text/plain": [
       "[[{'X': 0, 'Y': 0},\n",
       "  {'X': 0, 'Y': 1},\n",
       "  {'X': 1, 'Y': 0},\n",
       "  {'X': 1, 'Y': 1},\n",
       "  {'X': 0, 'Y': 2}],\n",
       " [{'X': 2, 'Y': 3},\n",
       "  {'X': 2, 'Y': 4},\n",
       "  {'X': 3, 'Y': 2},\n",
       "  {'X': 3, 'Y': 3},\n",
       "  {'X': 3, 'Y': 4},\n",
       "  {'X': 4, 'Y': 1},\n",
       "  {'X': 4, 'Y': 2},\n",
       "  {'X': 4, 'Y': 3}]]"
      ]
     },
     "execution_count": 57,
     "metadata": {
      "tags": []
     },
     "output_type": "execute_result"
    }
   ],
   "source": [
    "matrix_to_vertices(matrix)"
   ]
  },
  {
   "cell_type": "markdown",
   "metadata": {
    "id": "gO86lifCK0qH"
   },
   "source": [
    "#### Création nouvelle annotation (vertex -> xml)"
   ]
  },
  {
   "cell_type": "markdown",
   "metadata": {
    "id": "6HD7aQnQfEh2"
   },
   "source": [
    "On veut d'abord convertir la matrice de coordonnées données par l'outil de classification en liste de vertices V_coord nécessaire à la composition du fichier xml."
   ]
  },
  {
   "cell_type": "code",
   "execution_count": null,
   "metadata": {
    "colab": {
     "base_uri": "https://localhost:8080/",
     "height": 244
    },
    "executionInfo": {
     "elapsed": 654,
     "status": "error",
     "timestamp": 1615801233698,
     "user": {
      "displayName": "Rafik Mankour",
      "photoUrl": "",
      "userId": "06707444341054952045"
     },
     "user_tz": -60
    },
    "id": "_RYqzUaROlJn",
    "outputId": "a9ff0256-04bb-49c1-ebc2-ce1739d3911a"
   },
   "outputs": [
    {
     "ename": "ValueError",
     "evalue": "ignored",
     "output_type": "error",
     "traceback": [
      "\u001b[0;31m---------------------------------------------------------------------------\u001b[0m",
      "\u001b[0;31mValueError\u001b[0m                                Traceback (most recent call last)",
      "\u001b[0;32m<ipython-input-15-540fb290b74b>\u001b[0m in \u001b[0;36m<module>\u001b[0;34m()\u001b[0m\n\u001b[1;32m      2\u001b[0m \u001b[0;34m\u001b[0m\u001b[0m\n\u001b[1;32m      3\u001b[0m \u001b[0mV_coord\u001b[0m \u001b[0;34m=\u001b[0m \u001b[0;34m[\u001b[0m\u001b[0;34m]\u001b[0m \u001b[0;31m# Pour convertir une matrice en liste de coordonnées\u001b[0m\u001b[0;34m\u001b[0m\u001b[0;34m\u001b[0m\u001b[0m\n\u001b[0;32m----> 4\u001b[0;31m \u001b[0;32mfor\u001b[0m \u001b[0msub1\u001b[0m\u001b[0;34m,\u001b[0m \u001b[0msub2\u001b[0m \u001b[0;32min\u001b[0m \u001b[0mcoord\u001b[0m\u001b[0;34m:\u001b[0m\u001b[0;34m\u001b[0m\u001b[0;34m\u001b[0m\u001b[0m\n\u001b[0m\u001b[1;32m      5\u001b[0m \u001b[0;34m\u001b[0m\u001b[0m\n\u001b[1;32m      6\u001b[0m     \u001b[0;31m# zip() used to form pairing\u001b[0m\u001b[0;34m\u001b[0m\u001b[0;34m\u001b[0m\u001b[0;34m\u001b[0m\u001b[0m\n",
      "\u001b[0;31mValueError\u001b[0m: too many values to unpack (expected 2)"
     ]
    }
   ],
   "source": [
    "################ MARCHE PAS ENCORE\n",
    "\n",
    "coord = np.array([[1, 1, 0, 1, 1], [1, 0, 0, 0, 0], [1, 1, 1, 1, 0], [0, 1, 0, 0, 0], [1, 0, 0, 0, 0]])\n",
    "\n",
    "V_coord = [] # Pour convertir une matrice en liste de coordonnées\n",
    "for sub1, sub2 in coord: \n",
    "      \n",
    "    # zip() used to form pairing \n",
    "    for ele in zip(sub1, sub2): \n",
    "        V_coord.append(ele) "
   ]
  },
  {
   "cell_type": "code",
   "execution_count": null,
   "metadata": {
    "colab": {
     "base_uri": "https://localhost:8080/"
    },
    "executionInfo": {
     "elapsed": 506,
     "status": "ok",
     "timestamp": 1615805975375,
     "user": {
      "displayName": "Rafik Mankour",
      "photoUrl": "",
      "userId": "06707444341054952045"
     },
     "user_tz": -60
    },
    "id": "EUbkVK2TKh8q",
    "outputId": "2d38281e-ceec-470a-aa88-8d5d251cfd9a"
   },
   "outputs": [
    {
     "data": {
      "text/plain": [
       "<DOM Element: Annotation at 0x7f1cea674eb0>"
      ]
     },
     "execution_count": 16,
     "metadata": {
      "tags": []
     },
     "output_type": "execute_result"
    }
   ],
   "source": [
    "new_annot = minidom.Document() # create a new file\n",
    "\n",
    "annotations = new_annot.createElement(\"Annotations\") # create element Annotations\n",
    "\n",
    "annotation = new_annot.createElement(\"Annotation\") # create element Annotation\n",
    "# set all the attributes \n",
    "annotation.setAttribute('LineColor',\"65535\") \n",
    "annotation.setAttribute('Name', \"Layer 1\")\n",
    "annotation.setAttribute('Visible', \"True\")\n",
    "\n",
    "annotations.appendChild(annotation) # add Annotation to Annotations"
   ]
  },
  {
   "cell_type": "code",
   "execution_count": null,
   "metadata": {
    "id": "IVrSJnhQKpg8"
   },
   "outputs": [],
   "source": [
    "for R in V_coord:\n",
    "    new_region = new_annot.createElement(\"Region\") # create a new region\n",
    "    for V in R:\n",
    "        new_vertice = new_annot.createElement(\"V\") # create a new vertice\n",
    "        # set vertice's coord\n",
    "        new_vertice.setAttribute('X', V['X'])\n",
    "        new_vertice.setAttribute('Y', V['Y'])\n",
    "        \n",
    "        new_region.appendChild(new_vertice) # add vertice to region\n",
    "        \n",
    "    annotation.appendChild(new_region) # add region to annotation"
   ]
  },
  {
   "cell_type": "code",
   "execution_count": null,
   "metadata": {
    "colab": {
     "base_uri": "https://localhost:8080/"
    },
    "executionInfo": {
     "elapsed": 588,
     "status": "ok",
     "timestamp": 1615806027145,
     "user": {
      "displayName": "Rafik Mankour",
      "photoUrl": "",
      "userId": "06707444341054952045"
     },
     "user_tz": -60
    },
    "id": "xWsvDLDfKrP4",
    "outputId": "fe1a6e98-5b3c-47a0-fabe-e80ae0f72297"
   },
   "outputs": [
    {
     "data": {
      "text/plain": [
       "<DOM Element: Annotations at 0x7f1cea674b90>"
      ]
     },
     "execution_count": 19,
     "metadata": {
      "tags": []
     },
     "output_type": "execute_result"
    }
   ],
   "source": [
    "new_annot.appendChild(annotations) # add Annotations to our document"
   ]
  },
  {
   "cell_type": "code",
   "execution_count": null,
   "metadata": {
    "id": "MY_0aLlUKsvo"
   },
   "outputs": [],
   "source": [
    "myfile = open(\"annot_new.annotations\", \"w\") # open a new file\n",
    "myfile.write(new_annot.toprettyxml()) # write the content of our document in XML in the file\n",
    "myfile.close()"
   ]
  },
  {
   "cell_type": "markdown",
   "metadata": {
    "id": "2jexv8hs7Vgo"
   },
   "source": [
    "## Chargement image"
   ]
  },
  {
   "cell_type": "code",
   "execution_count": null,
   "metadata": {
    "colab": {
     "base_uri": "https://localhost:8080/",
     "height": 167
    },
    "executionInfo": {
     "elapsed": 1318,
     "status": "error",
     "timestamp": 1615905473238,
     "user": {
      "displayName": "Ian Pellet",
      "photoUrl": "https://lh3.googleusercontent.com/-VquyaV9apz0/AAAAAAAAAAI/AAAAAAAAAEs/jOmz2uWB17E/s64/photo.jpg",
      "userId": "02004371459168203791"
     },
     "user_tz": -60
    },
    "id": "5kN-8NDE7ZyL",
    "outputId": "23619be0-c70b-4fc4-fa80-5a6f0bb5b8dc"
   },
   "outputs": [
    {
     "ename": "NameError",
     "evalue": "ignored",
     "output_type": "error",
     "traceback": [
      "\u001b[0;31m---------------------------------------------------------------------------\u001b[0m",
      "\u001b[0;31mNameError\u001b[0m                                 Traceback (most recent call last)",
      "\u001b[0;32m<ipython-input-3-e420dce09b1b>\u001b[0m in \u001b[0;36m<module>\u001b[0;34m()\u001b[0m\n\u001b[0;32m----> 1\u001b[0;31m \u001b[0mimg_test\u001b[0m \u001b[0;34m=\u001b[0m \u001b[0mopenslide\u001b[0m\u001b[0;34m.\u001b[0m\u001b[0mOpenSlide\u001b[0m\u001b[0;34m(\u001b[0m\u001b[0;34m'./data/CRC1.ndpi'\u001b[0m\u001b[0;34m)\u001b[0m \u001b[0;31m# open whole-slide image\u001b[0m\u001b[0;34m\u001b[0m\u001b[0;34m\u001b[0m\u001b[0m\n\u001b[0m",
      "\u001b[0;31mNameError\u001b[0m: name 'openslide' is not defined"
     ]
    }
   ],
   "source": [
    "img_test = openslide.OpenSlide('./data/CRC1.ndpi') # open whole-slide image"
   ]
  },
  {
   "cell_type": "code",
   "execution_count": null,
   "metadata": {
    "id": "BwG6bLQl84Ms"
   },
   "outputs": [],
   "source": [
    "#Mallou\n",
    "img_test = openslide.OpenSlide('/content/drive/MyDrive/Projet 4BIM/data/CRC1.ndpi')"
   ]
  },
  {
   "cell_type": "code",
   "execution_count": null,
   "metadata": {
    "colab": {
     "base_uri": "https://localhost:8080/"
    },
    "executionInfo": {
     "elapsed": 564,
     "status": "ok",
     "timestamp": 1615800181071,
     "user": {
      "displayName": "Maëlle B",
      "photoUrl": "",
      "userId": "07714757650217289408"
     },
     "user_tz": -60
    },
    "id": "z_rE7wuS7wQM",
    "outputId": "5f56f8e1-7058-4a72-f4fa-a1d1718ac18f"
   },
   "outputs": [
    {
     "data": {
      "text/plain": [
       "((64512, 53760),\n",
       " (32256, 26880),\n",
       " (16128, 13440),\n",
       " (8064, 6720),\n",
       " (4032, 3360),\n",
       " (2016, 1680),\n",
       " (1008, 840),\n",
       " (504, 420),\n",
       " (252, 210),\n",
       " (126, 105))"
      ]
     },
     "execution_count": 31,
     "metadata": {
      "tags": []
     },
     "output_type": "execute_result"
    }
   ],
   "source": [
    "img_test.level_dimensions # dimensions for each levels of the slide"
   ]
  },
  {
   "cell_type": "code",
   "execution_count": null,
   "metadata": {
    "colab": {
     "base_uri": "https://localhost:8080/"
    },
    "executionInfo": {
     "elapsed": 586,
     "status": "ok",
     "timestamp": 1615800183613,
     "user": {
      "displayName": "Maëlle B",
      "photoUrl": "",
      "userId": "07714757650217289408"
     },
     "user_tz": -60
    },
    "id": "AlKYxf747x36",
    "outputId": "d1b3eec9-69ad-45b9-d3c7-eb308c3ecf02"
   },
   "outputs": [
    {
     "data": {
      "text/plain": [
       "(1.0, 2.0, 4.0, 8.0, 16.0, 32.0, 64.0, 128.0, 256.0, 512.0)"
      ]
     },
     "execution_count": 32,
     "metadata": {
      "tags": []
     },
     "output_type": "execute_result"
    }
   ],
   "source": [
    "img_test.level_downsamples # downsample rates of each level"
   ]
  },
  {
   "cell_type": "code",
   "execution_count": null,
   "metadata": {
    "colab": {
     "base_uri": "https://localhost:8080/",
     "height": 1000,
     "output_embedded_package_id": "1STX3Lf8qXBRlhR8nB17tUB3olrNJ1vPE"
    },
    "executionInfo": {
     "elapsed": 3725,
     "status": "ok",
     "timestamp": 1615800189047,
     "user": {
      "displayName": "Maëlle B",
      "photoUrl": "",
      "userId": "07714757650217289408"
     },
     "user_tz": -60
    },
    "id": "rmQ90GG17zwU",
    "outputId": "091f384c-5f46-4965-f45a-079d3e560970"
   },
   "outputs": [
    {
     "data": {
      "text/plain": [
       "Output hidden; open in https://colab.research.google.com to view."
      ]
     },
     "metadata": {},
     "output_type": "display_data"
    }
   ],
   "source": [
    "img_test.get_thumbnail((1200, 1200)) # RGB image of the slide of size (1200,1200)"
   ]
  },
  {
   "cell_type": "code",
   "execution_count": null,
   "metadata": {
    "colab": {
     "base_uri": "https://localhost:8080/"
    },
    "executionInfo": {
     "elapsed": 3991,
     "status": "ok",
     "timestamp": 1615800201831,
     "user": {
      "displayName": "Maëlle B",
      "photoUrl": "",
      "userId": "07714757650217289408"
     },
     "user_tz": -60
    },
    "id": "sHUQsC5X73Xv",
    "outputId": "6f9c50c4-4655-4f5d-d554-0e30a70909e8"
   },
   "outputs": [
    {
     "name": "stdout",
     "output_type": "stream",
     "text": [
      "0 (64512, 53760)\n",
      "1 (32256, 26880)\n",
      "2 (16128, 13440)\n",
      "3 (8064, 6720)\n",
      "4 (4032, 3360)\n",
      "5 (2016, 1680)\n",
      "6 (1008, 840)\n",
      "7 (504, 420)\n",
      "8 (252, 210)\n",
      "9 (126, 105)\n"
     ]
    }
   ],
   "source": [
    "# for each level, print level and size and open a region of the slide\n",
    "max_size = (1800, 1000)\n",
    "for lvl in range(img_test.level_count):\n",
    "    lvl_size = img_test.level_dimensions[lvl]\n",
    "    print(lvl, lvl_size)\n",
    "    disp_size = max_size if lvl_size > max_size else lvl_size\n",
    "\n",
    "    img_test.read_region((0,0), lvl, disp_size).show()"
   ]
  },
  {
   "cell_type": "code",
   "execution_count": null,
   "metadata": {
    "colab": {
     "base_uri": "https://localhost:8080/"
    },
    "executionInfo": {
     "elapsed": 600,
     "status": "ok",
     "timestamp": 1615908682891,
     "user": {
      "displayName": "Ian Pellet",
      "photoUrl": "https://lh3.googleusercontent.com/-VquyaV9apz0/AAAAAAAAAAI/AAAAAAAAAEs/jOmz2uWB17E/s64/photo.jpg",
      "userId": "02004371459168203791"
     },
     "user_tz": -60
    },
    "id": "zlT_nGda74ET",
    "outputId": "d521b004-be57-47ee-96df-a441dbd9eec8"
   },
   "outputs": [
    {
     "data": {
      "text/plain": [
       "PIL.Image.Image"
      ]
     },
     "execution_count": 15,
     "metadata": {
      "tags": []
     },
     "output_type": "execute_result"
    }
   ],
   "source": [
    "# we can extract a region of a level of our slide \n",
    "PIL_img = img_test.read_region((8000,4000), 5, (1200, 1200))\n",
    "type(PIL_img)"
   ]
  },
  {
   "cell_type": "code",
   "execution_count": null,
   "metadata": {
    "colab": {
     "base_uri": "https://localhost:8080/"
    },
    "executionInfo": {
     "elapsed": 609,
     "status": "ok",
     "timestamp": 1615908684764,
     "user": {
      "displayName": "Ian Pellet",
      "photoUrl": "https://lh3.googleusercontent.com/-VquyaV9apz0/AAAAAAAAAAI/AAAAAAAAAEs/jOmz2uWB17E/s64/photo.jpg",
      "userId": "02004371459168203791"
     },
     "user_tz": -60
    },
    "id": "XQS8LzxI75wN",
    "outputId": "06d4ba1c-5d46-4d7d-b984-cd27049d58c9"
   },
   "outputs": [
    {
     "data": {
      "text/plain": [
       "(1200, 1200, 4)"
      ]
     },
     "execution_count": 16,
     "metadata": {
      "tags": []
     },
     "output_type": "execute_result"
    }
   ],
   "source": [
    "np_img = np.array(PIL_img) # convert PIL Image to a Numpy array\n",
    "np_img.shape # RGBA"
   ]
  },
  {
   "cell_type": "code",
   "execution_count": null,
   "metadata": {
    "colab": {
     "base_uri": "https://localhost:8080/"
    },
    "executionInfo": {
     "elapsed": 643,
     "status": "ok",
     "timestamp": 1615908664126,
     "user": {
      "displayName": "Ian Pellet",
      "photoUrl": "https://lh3.googleusercontent.com/-VquyaV9apz0/AAAAAAAAAAI/AAAAAAAAAEs/jOmz2uWB17E/s64/photo.jpg",
      "userId": "02004371459168203791"
     },
     "user_tz": -60
    },
    "id": "Xmxj1yvQ771Y",
    "outputId": "86dda3d0-a9d2-41a6-8338-20b5788880fa"
   },
   "outputs": [
    {
     "data": {
      "text/plain": [
       "(1680, 2016, 4)"
      ]
     },
     "execution_count": 13,
     "metadata": {
      "tags": []
     },
     "output_type": "execute_result"
    }
   ],
   "source": [
    "lvl = 5 # levels 0 to 2 are to big \n",
    "full_img = img_test.read_region((0,0), lvl, img_test.level_dimensions[lvl])\n",
    "full_np = np.array(full_img)\n",
    "full_np.shape"
   ]
  },
  {
   "cell_type": "code",
   "execution_count": null,
   "metadata": {
    "id": "iUtNX4gL795j"
   },
   "outputs": [],
   "source": [
    "img_test.close() # close image"
   ]
  }
 ],
 "metadata": {
  "colab": {
   "collapsed_sections": [
    "_IbOBcPBDaSX",
    "gO86lifCK0qH"
   ],
   "name": "IHC_Classification",
   "provenance": []
  },
  "kernelspec": {
   "display_name": "Python 3",
   "language": "python",
   "name": "python3"
  },
  "language_info": {
   "codemirror_mode": {
    "name": "ipython",
    "version": 3
   },
   "file_extension": ".py",
   "mimetype": "text/x-python",
   "name": "python",
   "nbconvert_exporter": "python",
   "pygments_lexer": "ipython3",
   "version": "3.8.3"
  }
 },
 "nbformat": 4,
 "nbformat_minor": 1
}
