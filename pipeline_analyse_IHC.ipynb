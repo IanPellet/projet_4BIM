{
 "cells": [
  {
   "cell_type": "markdown",
   "metadata": {
    "id": "Qd-diPEpcmsI"
   },
   "source": [
    "# Développement d’un module de classification d’images IHC par IA\n",
    "\n",
    "### By Maëlle Broustal, Rafik Mankour & Ian Pellet"
   ]
  },
  {
   "cell_type": "markdown",
   "metadata": {
    "id": "GgzDcWWTlkUd"
   },
   "source": [
    "## Import"
   ]
  },
  {
   "cell_type": "code",
   "execution_count": null,
   "metadata": {
    "colab": {
     "base_uri": "https://localhost:8080/"
    },
    "id": "LFW9E9bhL66w",
    "outputId": "881fd058-599e-4940-fdcb-b23e6baeb105"
   },
   "outputs": [],
   "source": [
    "'''\n",
    "!apt update && apt install -y openslide-tools\n",
    "!pip install openslide-python\n",
    "'''"
   ]
  },
  {
   "cell_type": "code",
   "execution_count": null,
   "metadata": {
    "executionInfo": {
     "elapsed": 1557,
     "status": "ok",
     "timestamp": 1616082699380,
     "user": {
      "displayName": "Ian Pellet",
      "photoUrl": "https://lh3.googleusercontent.com/-VquyaV9apz0/AAAAAAAAAAI/AAAAAAAAAEs/jOmz2uWB17E/s64/photo.jpg",
      "userId": "02004371459168203791"
     },
     "user_tz": -60
    },
    "id": "X_6phcYzOena"
   },
   "outputs": [],
   "source": [
    "from xml.dom import minidom\n",
    "'''\n",
    "# Images\n",
    "import os\n",
    "import PIL \n",
    "import numpy as np\n",
    "import openslide\n",
    "\n",
    "# Annotations\n",
    "from xml.dom import minidom\n",
    "import skimage.draw\n",
    "\n",
    "#import pandas as pd\n",
    "#import skimage\n",
    "#import matplotlib.pyplot as plt\n",
    "#from tensorflow import keras as k\n",
    "'''"
   ]
  },
  {
   "cell_type": "code",
   "execution_count": null,
   "metadata": {
    "id": "hOORTkeUHnVh"
   },
   "outputs": [],
   "source": [
    "import pipeline_IHC as pipe"
   ]
  },
  {
   "cell_type": "markdown",
   "metadata": {
    "id": "mt0VR2iPcp_c"
   },
   "source": [
    "## Training\n",
    "\n",
    "### Chargement des images et annotations\n",
    "\n",
    "Charger les images et les fichiers annotation et les transformer en array\n",
    "\n",
    "#### Images"
   ]
  },
  {
   "cell_type": "code",
   "execution_count": null,
   "metadata": {
    "scrolled": true
   },
   "outputs": [],
   "source": [
    "input_dir = \"./data/\"\n",
    "input_img = pipe.load_img(input_dir)"
   ]
  },
  {
   "cell_type": "code",
   "execution_count": null,
   "metadata": {},
   "outputs": [],
   "source": [
    "list(input_img.keys())"
   ]
  },
  {
   "cell_type": "markdown",
   "metadata": {
    "id": "vjGOEJ_1eRYt"
   },
   "source": [
    "#### Annotations"
   ]
  },
  {
   "cell_type": "code",
   "execution_count": null,
   "metadata": {
    "colab": {
     "base_uri": "https://localhost:8080/"
    },
    "executionInfo": {
     "elapsed": 42561,
     "status": "ok",
     "timestamp": 1615978564513,
     "user": {
      "displayName": "Rafik Mankour",
      "photoUrl": "",
      "userId": "06707444341054952045"
     },
     "user_tz": -60
    },
    "id": "4cX-WKdUz5gJ",
    "outputId": "f7b9cf3c-5911-4e1e-a5f1-c5c9bac515f8",
    "scrolled": true
   },
   "outputs": [],
   "source": [
    "loaded_masks = pipe.load_annot(input_dir, input_img)"
   ]
  },
  {
   "cell_type": "code",
   "execution_count": null,
   "metadata": {},
   "outputs": [],
   "source": [
    "len(loaded_masks) == len(input_img)"
   ]
  },
  {
   "cell_type": "code",
   "execution_count": null,
   "metadata": {},
   "outputs": [],
   "source": [
    "ok = True\n",
    "for img in loaded_masks:\n",
    "    if loaded_masks[img].shape != input_img[img].shape:\n",
    "        ok = False\n",
    "        break\n",
    "ok"
   ]
  },
  {
   "cell_type": "code",
   "execution_count": null,
   "metadata": {},
   "outputs": [],
   "source": [
    "annot = minidom.parse(\"./test_data/data/test.annotations\") # open XML file\n",
    "Vcoords = pipe.xml_to_vertices(annot)"
   ]
  },
  {
   "cell_type": "code",
   "execution_count": null,
   "metadata": {},
   "outputs": [],
   "source": [
    "Vcoords"
   ]
  },
  {
   "cell_type": "code",
   "execution_count": null,
   "metadata": {
    "id": "edaN7TQixwW-"
   },
   "outputs": [],
   "source": [
    "mask = pipe.vertices_to_mask((1008, 840), 64, Vcoords)"
   ]
  },
  {
   "cell_type": "code",
   "execution_count": null,
   "metadata": {},
   "outputs": [],
   "source": [
    "len(mask[0])"
   ]
  },
  {
   "cell_type": "markdown",
   "metadata": {
    "id": "Z8g6QQhFczTI"
   },
   "source": [
    "## Mise en place du réseau de neurones"
   ]
  },
  {
   "cell_type": "markdown",
   "metadata": {
    "id": "_Dsoi1Bby1Ny"
   },
   "source": [
    "Adapter ce code issu des liens dans le sprint backlog avec des données :\n",
    "Problème à régler -> faire correspondre la taille et la dimension de l'image ) celle de la matrice d'annotation"
   ]
  },
  {
   "cell_type": "code",
   "execution_count": null,
   "metadata": {
    "colab": {
     "base_uri": "https://localhost:8080/"
    },
    "executionInfo": {
     "elapsed": 2078,
     "status": "ok",
     "timestamp": 1615982760833,
     "user": {
      "displayName": "Rafik Mankour",
      "photoUrl": "",
      "userId": "06707444341054952045"
     },
     "user_tz": -60
    },
    "id": "hdzYSUH52KKI",
    "outputId": "1e4c6b81-7001-4cc0-fbd4-9cf26d433871"
   },
   "outputs": [],
   "source": [
    "all_images = []\n",
    "all_images.append(full_np)\n",
    "\n",
    "all_annotations = []\n",
    "all_annotations.append(img)\n",
    "\n",
    "x_train = np.array(all_images)\n",
    "y_train = np.array(all_annotations)\n",
    "y_train = k.utils.to_categorical(y_train, 2)\n",
    "\n",
    "print(np.shape(x_train))\n",
    "np.shape(y_train)"
   ]
  },
  {
   "cell_type": "code",
   "execution_count": null,
   "metadata": {
    "colab": {
     "base_uri": "https://localhost:8080/",
     "height": 795
    },
    "executionInfo": {
     "elapsed": 3191,
     "status": "error",
     "timestamp": 1615982816933,
     "user": {
      "displayName": "Rafik Mankour",
      "photoUrl": "",
      "userId": "06707444341054952045"
     },
     "user_tz": -60
    },
    "id": "IpcPqqdqcBl0",
    "outputId": "a7a5edd2-1c7f-4aa0-94cf-f10b92c5d96c"
   },
   "outputs": [],
   "source": [
    "from tensorflow.keras.applications.inception_v3 import InceptionV3\n",
    "from tensorflow.keras.preprocessing import image\n",
    "from tensorflow.keras.models import Model\n",
    "from tensorflow.keras.layers import Dense, GlobalAveragePooling2D\n",
    "\n",
    "# create the base pre-trained model\n",
    "base_model = InceptionV3(weights='imagenet', include_top=False)\n",
    "\n",
    "# add a global spatial average pooling layer\n",
    "x = base_model.output\n",
    "x = GlobalAveragePooling2D()(x)\n",
    "# let's add a fully-connected layer\n",
    "x = Dense(1024, activation='relu')(x)\n",
    "# and a logistic layer -- let's say we have 200 classes\n",
    "predictions = Dense(200, activation='softmax')(x)\n",
    "\n",
    "# this is the model we will train\n",
    "model = Model(inputs=base_model.input, outputs=predictions)\n",
    "\n",
    "# first: train only the top layers (which were randomly initialized)\n",
    "# i.e. freeze all convolutional InceptionV3 layers\n",
    "for layer in base_model.layers:\n",
    "    layer.trainable = False\n",
    "\n",
    "# compile the model (should be done *after* setting layers to non-trainable)\n",
    "model.compile(optimizer='rmsprop', loss='categorical_crossentropy')\n",
    "\n",
    "# train the model on the new data for a few epochs\n",
    "\n",
    "model.fit(x_train, y_train, batch_size=1, epochs=10, verbose=1)\n",
    "\n",
    "# at this point, the top layers are well trained and we can start fine-tuning\n",
    "# convolutional layers from inception V3. We will freeze the bottom N layers\n",
    "# and train the remaining top layers.\n",
    "\n",
    "# let's visualize layer names and layer indices to see how many layers\n",
    "# we should freeze:\n",
    "for i, layer in enumerate(base_model.layers):\n",
    "   print(i, layer.name)\n",
    "\n",
    "# we chose to train the top 2 inception blocks, i.e. we will freeze\n",
    "# the first 249 layers and unfreeze the rest:\n",
    "for layer in model.layers[:249]:\n",
    "   layer.trainable = False\n",
    "for layer in model.layers[249:]:\n",
    "   layer.trainable = True\n",
    "\n",
    "# we need to recompile the model for these modifications to take effect\n",
    "# we use SGD with a low learning rate\n",
    "from tensorflow.keras.optimizers import SGD\n",
    "model.compile(optimizer=SGD(lr=0.0001, momentum=0.9), loss='categorical_crossentropy')\n",
    "\n",
    "# we train our model again (this time fine-tuning the top 2 inception blocks\n",
    "# alongside the top Dense layers\n",
    "\n",
    "model.fit(x_train, y_train, batch_size=1, epochs=10, verbose=1)\n",
    "\n",
    "# FOURNIR X_TRAIN AVEC LES IMAGES et Y_TRAIN AVEC LES ANNOTATIONS A EMPLOYER\n",
    "\n",
    "for i, layer in enumerate(base_model.layers):\n",
    "   print(i, layer.name)\n",
    "\n",
    "# we chose to train the top 2 inception blocks, i.e. we will freeze\n",
    "# the first 249 layers and unfreeze the rest:\n",
    "for layer in model.layers[:249]:\n",
    "   layer.trainable = False\n",
    "for layer in model.layers[249:]:\n",
    "   layer.trainable = True\n",
    "\n",
    "# we need to recompile the model for these modifications to take effect\n",
    "# we use SGD with a low learning rate\n",
    "from tensorflow.keras.optimizers import SGD\n",
    "model.compile(optimizer=SGD(lr=0.0001, momentum=0.9), loss='categorical_crossentropy')\n",
    "\n",
    "# we train our model again (this time fine-tuning the top 2 inception blocks\n",
    "# alongside the top Dense layers"
   ]
  },
  {
   "cell_type": "markdown",
   "metadata": {
    "id": "RKRYUBWKc6BN"
   },
   "source": [
    "## Test du réseau de neurones"
   ]
  },
  {
   "cell_type": "code",
   "execution_count": null,
   "metadata": {
    "id": "DWZnFaSDc9Zq"
   },
   "outputs": [],
   "source": []
  }
 ],
 "metadata": {
  "colab": {
   "collapsed_sections": [
    "GgzDcWWTlkUd"
   ],
   "name": "pipeline_analyse_IHC.ipynb",
   "provenance": [],
   "toc_visible": true
  },
  "kernelspec": {
   "display_name": "Python 3",
   "language": "python",
   "name": "python3"
  },
  "language_info": {
   "codemirror_mode": {
    "name": "ipython",
    "version": 3
   },
   "file_extension": ".py",
   "mimetype": "text/x-python",
   "name": "python",
   "nbconvert_exporter": "python",
   "pygments_lexer": "ipython3",
   "version": "3.8.3"
  }
 },
 "nbformat": 4,
 "nbformat_minor": 1
}
