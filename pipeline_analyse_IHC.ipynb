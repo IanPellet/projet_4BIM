{
 "cells": [
  {
   "cell_type": "markdown",
   "metadata": {
    "id": "Qd-diPEpcmsI"
   },
   "source": [
    "# Développement d’un module de classification d’images IHC par IA\n",
    "\n",
    "### By Maëlle Broustal, Rafik Mankour & Ian Pellet"
   ]
  },
  {
   "cell_type": "markdown",
   "metadata": {
    "id": "GgzDcWWTlkUd"
   },
   "source": [
    "## Import"
   ]
  },
  {
   "cell_type": "code",
   "execution_count": null,
   "metadata": {
    "colab": {
     "base_uri": "https://localhost:8080/"
    },
    "id": "LFW9E9bhL66w",
    "outputId": "881fd058-599e-4940-fdcb-b23e6baeb105"
   },
   "outputs": [],
   "source": [
    "'''\n",
    "!apt update && apt install -y openslide-tools\n",
    "!pip install openslide-python\n",
    "'''"
   ]
  },
  {
   "cell_type": "code",
   "execution_count": 32,
   "metadata": {
    "executionInfo": {
     "elapsed": 1557,
     "status": "ok",
     "timestamp": 1616082699380,
     "user": {
      "displayName": "Ian Pellet",
      "photoUrl": "https://lh3.googleusercontent.com/-VquyaV9apz0/AAAAAAAAAAI/AAAAAAAAAEs/jOmz2uWB17E/s64/photo.jpg",
      "userId": "02004371459168203791"
     },
     "user_tz": -60
    },
    "id": "X_6phcYzOena"
   },
   "outputs": [],
   "source": [
    "# Images\n",
    "import os\n",
    "import PIL \n",
    "import numpy as np\n",
    "import openslide\n",
    "\n",
    "# Annotations\n",
    "from xml.dom import minidom\n",
    "import skimage.draw\n",
    "\n",
    "#import pandas as pd\n",
    "#import skimage\n",
    "#import matplotlib.pyplot as plt\n",
    "#from tensorflow import keras as k"
   ]
  },
  {
   "cell_type": "markdown",
   "metadata": {
    "id": "mt0VR2iPcp_c"
   },
   "source": [
    "## Training\n",
    "\n",
    "### Chargement des images et annotations\n",
    "\n",
    "Charger les images et les fichiers annotation et les transformer en array\n",
    "\n",
    "#### Images"
   ]
  },
  {
   "cell_type": "code",
   "execution_count": 2,
   "metadata": {},
   "outputs": [],
   "source": [
    "def load_img(in_dir):\n",
    "    '''\n",
    "    Load images and transform it to np.arrays to be inputed in the model\n",
    "    Parameters :\n",
    "        in_dir -> directory containing the image files (str)\n",
    "    Returned value :\n",
    "        img_as_array -> list of images in in_dir represented as np.array of int (list of np.arrays)\n",
    "    ''' \n",
    "    \n",
    "    # list of image paths\n",
    "    img_paths = sorted(\n",
    "        [\n",
    "            os.path.join(in_dir, fname) # join directory name with file name\n",
    "            for fname in os.listdir(in_dir)\n",
    "            if fname.endswith(\".ndpi\") # for ndpi files of the directory\n",
    "        ]\n",
    "    )\n",
    "    \n",
    "    # path -> OpenSlide image\n",
    "    OpSl_img = [] # list of OpenSlide images\n",
    "    for path in img_paths:\n",
    "        temp_OpSl_img = openslide.OpenSlide(path) # open whole-slide image\n",
    "        OpSl_img.append(temp_OpSl_img)\n",
    "    \n",
    "    \n",
    "    # OpenSlide image -> PIL image\n",
    "    # as we can't load full images we take an arbitrary level to extract\n",
    "    PIL_img = []\n",
    "    location = (0,0)\n",
    "    level = 5\n",
    "    for img in OpSl_img:\n",
    "        size = img.level_dimensions[level]\n",
    "        temp_PIL_img = img.read_region(location, level, size)\n",
    "        #temp_PIL_img.show()\n",
    "        img.close() # close image\n",
    "        PIL_img.append(temp_PIL_img)\n",
    "        \n",
    "    # PIL image -> np.array\n",
    "    img_as_array = [] # returned value, list of np.arrays\n",
    "    for Pimg in PIL_img:\n",
    "        temp_array = np.array(Pimg)\n",
    "        img_as_array.append(temp_array)\n",
    "        \n",
    "    return img_as_array"
   ]
  },
  {
   "cell_type": "code",
   "execution_count": 3,
   "metadata": {},
   "outputs": [],
   "source": [
    "input_dir = \"./data/\"\n",
    "input_img = load_img(input_dir)"
   ]
  },
  {
   "cell_type": "markdown",
   "metadata": {
    "id": "vjGOEJ_1eRYt"
   },
   "source": [
    "#### Annotations"
   ]
  },
  {
   "cell_type": "code",
   "execution_count": 23,
   "metadata": {},
   "outputs": [],
   "source": [
    "def xml_to_vertices(xml, region_type = '0'):\n",
    "    '''\n",
    "    Returns the list of coordinates of the vertices of each regions \n",
    "    Parameters :\n",
    "        xml -> parsed xml file\n",
    "        region_type -> extract only positive '0' or negative regions '1'(str)\n",
    "    Returned value :\n",
    "        V_coord -> list of coordinates (dict) of all vertices in each region (2D array of dict)\n",
    "    '''\n",
    "    \n",
    "    # extract positive regions\n",
    "    regions = []\n",
    "    for r in xml.getElementsByTagName(\"Region\"):\n",
    "        if r.getAttribute(\"NegativeROA\")==region_type : regions.append(r)\n",
    "            \n",
    "    # extract vertices and there coordinates\n",
    "    V_coord = [] # list of coord of each vertex in each region\n",
    "    for r in regions :\n",
    "        \n",
    "        temp_vertices = r.getElementsByTagName(\"V\")\n",
    "\n",
    "        temp_coord = []\n",
    "        for v in temp_vertices :\n",
    "            coord = {\"X\": v.getAttribute('X'), \"Y\": v.getAttribute('Y')}\n",
    "            temp_coord.append(coord)\n",
    "            \n",
    "        V_coord.append(temp_coord)\n",
    "        \n",
    "    return V_coord"
   ]
  },
  {
   "cell_type": "code",
   "execution_count": 25,
   "metadata": {},
   "outputs": [],
   "source": [
    "Vcoords = xml_to_vertices(annot)"
   ]
  },
  {
   "cell_type": "code",
   "execution_count": 45,
   "metadata": {
    "id": "ixyv-0weobMn"
   },
   "outputs": [],
   "source": [
    "def vertices_to_mask(img_shape, ds_rate, V_coord):\n",
    "    mask = np.ones(img_shape) # creates an array of ones of the same shape of our image\n",
    "    #ds_rate = 8 # downsample rate\n",
    "\n",
    "    # list of polygons, each object is an array containing the coords of the px in a region of V_coord\n",
    "    polygons = [] # 1 polygon / region\n",
    "\n",
    "    for region in V_coord:\n",
    "        x = [] # list of x coord in the region\n",
    "        y = [] # list of y coord in the region\n",
    "\n",
    "        # fill the x and y coord arrays\n",
    "        for v in region:\n",
    "            # as we dont take the full resolution slide of the image, \n",
    "            # we need to divide the coord of each vertice by the downsampling rate\n",
    "            temp_x = int(v['X'])/ds_rate \n",
    "            temp_y = int(v['Y'])/ds_rate\n",
    "\n",
    "            x.append(int(temp_x))\n",
    "            y.append(int(temp_y))\n",
    "\n",
    "        # sikimage computes the coord of each px in the region from the vertices defining \n",
    "        # the perimeter of the region\n",
    "        polygons.append(skimage.draw.polygon(x,y)) \n",
    "        \n",
    "    # modify mask so that each px in a region of V_coord is set to 0\n",
    "    for p in range(len(polygons)):\n",
    "        poly = np.transpose(polygons[p])\n",
    "\n",
    "        for i in range(len(poly)):\n",
    "            mask[(poly[i][0], poly[i][1])] = 0\n",
    "        \n",
    "    return mask"
   ]
  },
  {
   "cell_type": "code",
   "execution_count": 46,
   "metadata": {
    "id": "edaN7TQixwW-"
   },
   "outputs": [],
   "source": [
    "mask = vertices_to_mask((1008, 840), 64, Vcoords)"
   ]
  },
  {
   "cell_type": "code",
   "execution_count": 47,
   "metadata": {},
   "outputs": [],
   "source": [
    "def load_annot(in_dir):\n",
    "    '''\n",
    "    Load annotation files and transform it to mask arrays to be inputed in the model\n",
    "    Parameters :\n",
    "        in_dir -> directory containing the annotation files (str)\n",
    "    Returned value :\n",
    "        mask_array -> list of images in in_dir represented as np.array of int (list of np.arrays)\n",
    "    ''' \n",
    "    \n",
    "    # list of annotations paths\n",
    "    annot_paths = sorted(\n",
    "        [\n",
    "            os.path.join(in_dir, fname) # join directory name with file name\n",
    "            for fname in os.listdir(in_dir)\n",
    "            if fname.endswith(\".annotations\") # for annotations files of the directory\n",
    "        ]\n",
    "    )\n",
    "    \n",
    "    # path -> xml\n",
    "    annot_xml = []\n",
    "    for path in annot_paths:\n",
    "        temp_xml = minidom.parse(path) # open xml\n",
    "        annot_xml.append(temp_xml)\n",
    "        \n",
    "    # xml -> list of vertices\n",
    "    annot_coords = []\n",
    "    for xml in annot_xml:\n",
    "        temp_coords = xml_to_vertices(xml, '0')\n",
    "        annot_coords.append(temp_coords)\n",
    "        \n",
    "    # comment associer annot files w/ img ?\n",
    "    # list of vertices -> mask array\n",
    "    masks = []\n",
    "    for coords in annot_coords:\n",
    "        temp_mask = vertices_to_mask((1008, 840), 64, coords) # taille et ds_rate random\n",
    "        masks.append(temp_mask)\n",
    "    \n",
    "    return masks"
   ]
  },
  {
   "cell_type": "code",
   "execution_count": 48,
   "metadata": {
    "colab": {
     "base_uri": "https://localhost:8080/"
    },
    "executionInfo": {
     "elapsed": 42561,
     "status": "ok",
     "timestamp": 1615978564513,
     "user": {
      "displayName": "Rafik Mankour",
      "photoUrl": "",
      "userId": "06707444341054952045"
     },
     "user_tz": -60
    },
    "id": "4cX-WKdUz5gJ",
    "outputId": "f7b9cf3c-5911-4e1e-a5f1-c5c9bac515f8"
   },
   "outputs": [],
   "source": [
    "loaded_masks = load_annot(input_dir)"
   ]
  },
  {
   "cell_type": "code",
   "execution_count": 49,
   "metadata": {},
   "outputs": [
    {
     "data": {
      "text/plain": [
       "[array([[1., 1., 1., ..., 1., 1., 1.],\n",
       "        [1., 1., 1., ..., 1., 1., 1.],\n",
       "        [1., 1., 1., ..., 1., 1., 1.],\n",
       "        ...,\n",
       "        [1., 1., 1., ..., 1., 1., 1.],\n",
       "        [1., 1., 1., ..., 1., 1., 1.],\n",
       "        [1., 1., 1., ..., 1., 1., 1.]]),\n",
       " array([[1., 1., 1., ..., 1., 1., 1.],\n",
       "        [1., 1., 1., ..., 1., 1., 1.],\n",
       "        [1., 1., 1., ..., 1., 1., 1.],\n",
       "        ...,\n",
       "        [1., 1., 1., ..., 1., 1., 1.],\n",
       "        [1., 1., 1., ..., 1., 1., 1.],\n",
       "        [1., 1., 1., ..., 1., 1., 1.]])]"
      ]
     },
     "execution_count": 49,
     "metadata": {},
     "output_type": "execute_result"
    }
   ],
   "source": [
    "loaded_masks"
   ]
  },
  {
   "cell_type": "markdown",
   "metadata": {
    "id": "Z8g6QQhFczTI"
   },
   "source": [
    "## Mise en place du réseau de neurones"
   ]
  },
  {
   "cell_type": "markdown",
   "metadata": {
    "id": "_Dsoi1Bby1Ny"
   },
   "source": [
    "Adapter ce code issu des liens dans le sprint backlog avec des données :\n",
    "Problème à régler -> faire correspondre la taille et la dimension de l'image ) celle de la matrice d'annotation"
   ]
  },
  {
   "cell_type": "code",
   "execution_count": null,
   "metadata": {
    "colab": {
     "base_uri": "https://localhost:8080/"
    },
    "executionInfo": {
     "elapsed": 2078,
     "status": "ok",
     "timestamp": 1615982760833,
     "user": {
      "displayName": "Rafik Mankour",
      "photoUrl": "",
      "userId": "06707444341054952045"
     },
     "user_tz": -60
    },
    "id": "hdzYSUH52KKI",
    "outputId": "1e4c6b81-7001-4cc0-fbd4-9cf26d433871"
   },
   "outputs": [],
   "source": [
    "all_images = []\n",
    "all_images.append(full_np)\n",
    "\n",
    "all_annotations = []\n",
    "all_annotations.append(img)\n",
    "\n",
    "x_train = np.array(all_images)\n",
    "y_train = np.array(all_annotations)\n",
    "y_train = k.utils.to_categorical(y_train, 2)\n",
    "\n",
    "print(np.shape(x_train))\n",
    "np.shape(y_train)"
   ]
  },
  {
   "cell_type": "code",
   "execution_count": null,
   "metadata": {
    "colab": {
     "base_uri": "https://localhost:8080/",
     "height": 795
    },
    "executionInfo": {
     "elapsed": 3191,
     "status": "error",
     "timestamp": 1615982816933,
     "user": {
      "displayName": "Rafik Mankour",
      "photoUrl": "",
      "userId": "06707444341054952045"
     },
     "user_tz": -60
    },
    "id": "IpcPqqdqcBl0",
    "outputId": "a7a5edd2-1c7f-4aa0-94cf-f10b92c5d96c"
   },
   "outputs": [],
   "source": [
    "from tensorflow.keras.applications.inception_v3 import InceptionV3\n",
    "from tensorflow.keras.preprocessing import image\n",
    "from tensorflow.keras.models import Model\n",
    "from tensorflow.keras.layers import Dense, GlobalAveragePooling2D\n",
    "\n",
    "# create the base pre-trained model\n",
    "base_model = InceptionV3(weights='imagenet', include_top=False)\n",
    "\n",
    "# add a global spatial average pooling layer\n",
    "x = base_model.output\n",
    "x = GlobalAveragePooling2D()(x)\n",
    "# let's add a fully-connected layer\n",
    "x = Dense(1024, activation='relu')(x)\n",
    "# and a logistic layer -- let's say we have 200 classes\n",
    "predictions = Dense(200, activation='softmax')(x)\n",
    "\n",
    "# this is the model we will train\n",
    "model = Model(inputs=base_model.input, outputs=predictions)\n",
    "\n",
    "# first: train only the top layers (which were randomly initialized)\n",
    "# i.e. freeze all convolutional InceptionV3 layers\n",
    "for layer in base_model.layers:\n",
    "    layer.trainable = False\n",
    "\n",
    "# compile the model (should be done *after* setting layers to non-trainable)\n",
    "model.compile(optimizer='rmsprop', loss='categorical_crossentropy')\n",
    "\n",
    "# train the model on the new data for a few epochs\n",
    "\n",
    "model.fit(x_train, y_train, batch_size=1, epochs=10, verbose=1)\n",
    "\n",
    "# at this point, the top layers are well trained and we can start fine-tuning\n",
    "# convolutional layers from inception V3. We will freeze the bottom N layers\n",
    "# and train the remaining top layers.\n",
    "\n",
    "# let's visualize layer names and layer indices to see how many layers\n",
    "# we should freeze:\n",
    "for i, layer in enumerate(base_model.layers):\n",
    "   print(i, layer.name)\n",
    "\n",
    "# we chose to train the top 2 inception blocks, i.e. we will freeze\n",
    "# the first 249 layers and unfreeze the rest:\n",
    "for layer in model.layers[:249]:\n",
    "   layer.trainable = False\n",
    "for layer in model.layers[249:]:\n",
    "   layer.trainable = True\n",
    "\n",
    "# we need to recompile the model for these modifications to take effect\n",
    "# we use SGD with a low learning rate\n",
    "from tensorflow.keras.optimizers import SGD\n",
    "model.compile(optimizer=SGD(lr=0.0001, momentum=0.9), loss='categorical_crossentropy')\n",
    "\n",
    "# we train our model again (this time fine-tuning the top 2 inception blocks\n",
    "# alongside the top Dense layers\n",
    "\n",
    "model.fit(x_train, y_train, batch_size=1, epochs=10, verbose=1)\n",
    "\n",
    "# FOURNIR X_TRAIN AVEC LES IMAGES et Y_TRAIN AVEC LES ANNOTATIONS A EMPLOYER\n",
    "\n",
    "for i, layer in enumerate(base_model.layers):\n",
    "   print(i, layer.name)\n",
    "\n",
    "# we chose to train the top 2 inception blocks, i.e. we will freeze\n",
    "# the first 249 layers and unfreeze the rest:\n",
    "for layer in model.layers[:249]:\n",
    "   layer.trainable = False\n",
    "for layer in model.layers[249:]:\n",
    "   layer.trainable = True\n",
    "\n",
    "# we need to recompile the model for these modifications to take effect\n",
    "# we use SGD with a low learning rate\n",
    "from tensorflow.keras.optimizers import SGD\n",
    "model.compile(optimizer=SGD(lr=0.0001, momentum=0.9), loss='categorical_crossentropy')\n",
    "\n",
    "# we train our model again (this time fine-tuning the top 2 inception blocks\n",
    "# alongside the top Dense layers"
   ]
  },
  {
   "cell_type": "markdown",
   "metadata": {
    "id": "RKRYUBWKc6BN"
   },
   "source": [
    "## Test du réseau de neurones"
   ]
  },
  {
   "cell_type": "code",
   "execution_count": null,
   "metadata": {
    "id": "DWZnFaSDc9Zq"
   },
   "outputs": [],
   "source": []
  }
 ],
 "metadata": {
  "colab": {
   "collapsed_sections": [
    "GgzDcWWTlkUd"
   ],
   "name": "pipeline_analyse_IHC.ipynb",
   "provenance": [],
   "toc_visible": true
  },
  "kernelspec": {
   "display_name": "Python 3",
   "language": "python",
   "name": "python3"
  },
  "language_info": {
   "codemirror_mode": {
    "name": "ipython",
    "version": 3
   },
   "file_extension": ".py",
   "mimetype": "text/x-python",
   "name": "python",
   "nbconvert_exporter": "python",
   "pygments_lexer": "ipython3",
   "version": "3.8.3"
  }
 },
 "nbformat": 4,
 "nbformat_minor": 1
}
